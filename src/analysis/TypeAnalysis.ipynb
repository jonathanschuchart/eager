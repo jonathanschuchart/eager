{
 "cells": [
  {
   "cell_type": "code",
   "execution_count": 1,
   "metadata": {},
   "outputs": [],
   "source": [
    "import os\n",
    "import sys\n",
    "module_path = os.path.abspath(os.path.join('..'))\n",
    "if module_path not in sys.path:\n",
    "    sys.path.append(module_path)"
   ]
  },
  {
   "cell_type": "code",
   "execution_count": 2,
   "metadata": {},
   "outputs": [],
   "source": [
    "import pandas as pd\n",
    "import numpy as np\n",
    "import scipy.stats  as stats\n",
    "import seaborn as sns\n",
    "import glob\n",
    "import matplotlib.pyplot as plt\n",
    "from quality.analyze_types import create_typed_predictions, get_entity_node_degrees, create_combined_df, create_combined_over_embeddings, _get_files, average_node_degree"
   ]
  },
  {
   "cell_type": "code",
   "execution_count": 3,
   "metadata": {},
   "outputs": [],
   "source": [
    "embedding_approaches = [\"BootEA\",\"MultiKE\",\"RDGCN\"]\n",
    "dataset_name = \"EN_DE_15K_V1\"\n",
    "type_files = sorted([i for i in glob.iglob(f\"/home/dobraczka/Downloads/git/er-embedding-benchmark/data/OpenEA/typed_links/datasets/{dataset_name}/721_5fold/*/typed_test\")])"
   ]
  },
  {
   "cell_type": "code",
   "execution_count": 4,
   "metadata": {},
   "outputs": [
    {
     "name": "stderr",
     "output_type": "stream",
     "text": [
      "Create combined df: 100%|██████████| 3/3 [00:10<00:00,  3.59s/it]\n"
     ]
    }
   ],
   "source": [
    "combined = create_combined_over_embeddings(embedding_approaches, dataset_name, type_files,\"/home/dobraczka/Downloads/git/er-embedding-benchmark/data/\")"
   ]
  },
  {
   "cell_type": "code",
   "execution_count": null,
   "metadata": {},
   "outputs": [],
   "source": []
  },
  {
   "cell_type": "code",
   "execution_count": 6,
   "metadata": {},
   "outputs": [
    {
     "ename": "AttributeError",
     "evalue": "'tuple' object has no attribute 'get'",
     "output_type": "error",
     "traceback": [
      "\u001b[0;31m---------------------------------------------------------------------------\u001b[0m",
      "\u001b[0;31mAttributeError\u001b[0m                            Traceback (most recent call last)",
      "\u001b[0;32m<ipython-input-6-a6028f5fbb33>\u001b[0m in \u001b[0;36m<module>\u001b[0;34m\u001b[0m\n\u001b[0;32m----> 1\u001b[0;31m \u001b[0mg\u001b[0m \u001b[0;34m=\u001b[0m \u001b[0msns\u001b[0m\u001b[0;34m.\u001b[0m\u001b[0mscatterplot\u001b[0m\u001b[0;34m(\u001b[0m\u001b[0mx\u001b[0m\u001b[0;34m=\u001b[0m\u001b[0;34m\"Type\"\u001b[0m\u001b[0;34m,\u001b[0m\u001b[0my\u001b[0m\u001b[0;34m=\u001b[0m\u001b[0;34m\"fn rate\"\u001b[0m\u001b[0;34m,\u001b[0m\u001b[0mhue\u001b[0m\u001b[0;34m=\u001b[0m\u001b[0;34m\"Embedding approach\"\u001b[0m\u001b[0;34m,\u001b[0m\u001b[0mstyle\u001b[0m\u001b[0;34m=\u001b[0m\u001b[0;34m\"Embedding approach\"\u001b[0m\u001b[0;34m,\u001b[0m\u001b[0mdata\u001b[0m\u001b[0;34m=\u001b[0m\u001b[0mcombined\u001b[0m\u001b[0;34m)\u001b[0m\u001b[0;34m\u001b[0m\u001b[0;34m\u001b[0m\u001b[0m\n\u001b[0m\u001b[1;32m      2\u001b[0m \u001b[0;32mfor\u001b[0m \u001b[0mlabel\u001b[0m \u001b[0;32min\u001b[0m \u001b[0mg\u001b[0m\u001b[0;34m.\u001b[0m\u001b[0mget_xticklabels\u001b[0m\u001b[0;34m(\u001b[0m\u001b[0;34m)\u001b[0m\u001b[0;34m:\u001b[0m\u001b[0;34m\u001b[0m\u001b[0;34m\u001b[0m\u001b[0m\n\u001b[1;32m      3\u001b[0m     \u001b[0mlabel\u001b[0m\u001b[0;34m.\u001b[0m\u001b[0mset_rotation\u001b[0m\u001b[0;34m(\u001b[0m\u001b[0;36m90\u001b[0m\u001b[0;34m)\u001b[0m\u001b[0;34m\u001b[0m\u001b[0;34m\u001b[0m\u001b[0m\n",
      "\u001b[0;32m~/.local/share/virtualenvs/er-embedding-benchmark-_gu3Nn8a/lib/python3.7/site-packages/seaborn/relational.py\u001b[0m in \u001b[0;36mscatterplot\u001b[0;34m(x, y, hue, style, size, data, palette, hue_order, hue_norm, sizes, size_order, size_norm, markers, style_order, x_bins, y_bins, units, estimator, ci, n_boot, alpha, x_jitter, y_jitter, legend, ax, **kwargs)\u001b[0m\n\u001b[1;32m   1395\u001b[0m         \u001b[0mx_bins\u001b[0m\u001b[0;34m=\u001b[0m\u001b[0mx_bins\u001b[0m\u001b[0;34m,\u001b[0m \u001b[0my_bins\u001b[0m\u001b[0;34m=\u001b[0m\u001b[0my_bins\u001b[0m\u001b[0;34m,\u001b[0m\u001b[0;34m\u001b[0m\u001b[0;34m\u001b[0m\u001b[0m\n\u001b[1;32m   1396\u001b[0m         \u001b[0mestimator\u001b[0m\u001b[0;34m=\u001b[0m\u001b[0mestimator\u001b[0m\u001b[0;34m,\u001b[0m \u001b[0mci\u001b[0m\u001b[0;34m=\u001b[0m\u001b[0mci\u001b[0m\u001b[0;34m,\u001b[0m \u001b[0mn_boot\u001b[0m\u001b[0;34m=\u001b[0m\u001b[0mn_boot\u001b[0m\u001b[0;34m,\u001b[0m\u001b[0;34m\u001b[0m\u001b[0;34m\u001b[0m\u001b[0m\n\u001b[0;32m-> 1397\u001b[0;31m         \u001b[0malpha\u001b[0m\u001b[0;34m=\u001b[0m\u001b[0malpha\u001b[0m\u001b[0;34m,\u001b[0m \u001b[0mx_jitter\u001b[0m\u001b[0;34m=\u001b[0m\u001b[0mx_jitter\u001b[0m\u001b[0;34m,\u001b[0m \u001b[0my_jitter\u001b[0m\u001b[0;34m=\u001b[0m\u001b[0my_jitter\u001b[0m\u001b[0;34m,\u001b[0m \u001b[0mlegend\u001b[0m\u001b[0;34m=\u001b[0m\u001b[0mlegend\u001b[0m\u001b[0;34m,\u001b[0m\u001b[0;34m\u001b[0m\u001b[0;34m\u001b[0m\u001b[0m\n\u001b[0m\u001b[1;32m   1398\u001b[0m     )\n\u001b[1;32m   1399\u001b[0m \u001b[0;34m\u001b[0m\u001b[0m\n",
      "\u001b[0;32m~/.local/share/virtualenvs/er-embedding-benchmark-_gu3Nn8a/lib/python3.7/site-packages/seaborn/relational.py\u001b[0m in \u001b[0;36m__init__\u001b[0;34m(self, x, y, hue, size, style, data, palette, hue_order, hue_norm, sizes, size_order, size_norm, dashes, markers, style_order, x_bins, y_bins, units, estimator, ci, n_boot, alpha, x_jitter, y_jitter, legend)\u001b[0m\n\u001b[1;32m    884\u001b[0m \u001b[0;34m\u001b[0m\u001b[0m\n\u001b[1;32m    885\u001b[0m         plot_data = self.establish_variables(\n\u001b[0;32m--> 886\u001b[0;31m             \u001b[0mx\u001b[0m\u001b[0;34m,\u001b[0m \u001b[0my\u001b[0m\u001b[0;34m,\u001b[0m \u001b[0mhue\u001b[0m\u001b[0;34m,\u001b[0m \u001b[0msize\u001b[0m\u001b[0;34m,\u001b[0m \u001b[0mstyle\u001b[0m\u001b[0;34m,\u001b[0m \u001b[0munits\u001b[0m\u001b[0;34m,\u001b[0m \u001b[0mdata\u001b[0m\u001b[0;34m\u001b[0m\u001b[0;34m\u001b[0m\u001b[0m\n\u001b[0m\u001b[1;32m    887\u001b[0m         )\n\u001b[1;32m    888\u001b[0m \u001b[0;34m\u001b[0m\u001b[0m\n",
      "\u001b[0;32m~/.local/share/virtualenvs/er-embedding-benchmark-_gu3Nn8a/lib/python3.7/site-packages/seaborn/relational.py\u001b[0m in \u001b[0;36mestablish_variables\u001b[0;34m(self, x, y, hue, size, style, units, data)\u001b[0m\n\u001b[1;32m    124\u001b[0m             \u001b[0;31m# Use variables as from the dataframe if specified\u001b[0m\u001b[0;34m\u001b[0m\u001b[0;34m\u001b[0m\u001b[0;34m\u001b[0m\u001b[0m\n\u001b[1;32m    125\u001b[0m             \u001b[0;32mif\u001b[0m \u001b[0mdata\u001b[0m \u001b[0;32mis\u001b[0m \u001b[0;32mnot\u001b[0m \u001b[0;32mNone\u001b[0m\u001b[0;34m:\u001b[0m\u001b[0;34m\u001b[0m\u001b[0;34m\u001b[0m\u001b[0m\n\u001b[0;32m--> 126\u001b[0;31m                 \u001b[0mx\u001b[0m \u001b[0;34m=\u001b[0m \u001b[0mdata\u001b[0m\u001b[0;34m.\u001b[0m\u001b[0mget\u001b[0m\u001b[0;34m(\u001b[0m\u001b[0mx\u001b[0m\u001b[0;34m,\u001b[0m \u001b[0mx\u001b[0m\u001b[0;34m)\u001b[0m\u001b[0;34m\u001b[0m\u001b[0;34m\u001b[0m\u001b[0m\n\u001b[0m\u001b[1;32m    127\u001b[0m                 \u001b[0my\u001b[0m \u001b[0;34m=\u001b[0m \u001b[0mdata\u001b[0m\u001b[0;34m.\u001b[0m\u001b[0mget\u001b[0m\u001b[0;34m(\u001b[0m\u001b[0my\u001b[0m\u001b[0;34m,\u001b[0m \u001b[0my\u001b[0m\u001b[0;34m)\u001b[0m\u001b[0;34m\u001b[0m\u001b[0;34m\u001b[0m\u001b[0m\n\u001b[1;32m    128\u001b[0m                 \u001b[0mhue\u001b[0m \u001b[0;34m=\u001b[0m \u001b[0mdata\u001b[0m\u001b[0;34m.\u001b[0m\u001b[0mget\u001b[0m\u001b[0;34m(\u001b[0m\u001b[0mhue\u001b[0m\u001b[0;34m,\u001b[0m \u001b[0mhue\u001b[0m\u001b[0;34m)\u001b[0m\u001b[0;34m\u001b[0m\u001b[0;34m\u001b[0m\u001b[0m\n",
      "\u001b[0;31mAttributeError\u001b[0m: 'tuple' object has no attribute 'get'"
     ]
    }
   ],
   "source": [
    "g = sns.scatterplot(x=\"Type\",y=\"fn rate\",hue=\"Embedding approach\",style=\"Embedding approach\",data=combined)\n",
    "for label in g.get_xticklabels():\n",
    "    label.set_rotation(90)"
   ]
  },
  {
   "cell_type": "code",
   "execution_count": null,
   "metadata": {},
   "outputs": [],
   "source": [
    "def stylize(df):\n",
    "    cm = sns.cubehelix_palette(5, as_cmap=True)\n",
    "    return df.style.background_gradient(cmap=cm, axis=1)"
   ]
  },
  {
   "cell_type": "code",
   "execution_count": null,
   "metadata": {},
   "outputs": [],
   "source": [
    "bootea = combined[combined[\"Embedding approach\"]==\"BootEA\"]\n",
    "rdgcn = combined[combined[\"Embedding approach\"]==\"RDGCN\"]\n",
    "multike = combined[combined[\"Embedding approach\"]==\"MultiKE\"]"
   ]
  },
  {
   "cell_type": "code",
   "execution_count": null,
   "metadata": {},
   "outputs": [],
   "source": [
    "stats.pearsonr(bootea[bootea[\"fn rate\"].notna()][\"fn rate\"], bootea[bootea[\"fn rate\"].notna()][\"rate of all\"])"
   ]
  },
  {
   "cell_type": "code",
   "execution_count": null,
   "metadata": {},
   "outputs": [],
   "source": [
    "stats.kendalltau(combined[combined[\"fn rate\"].notna()][\"fn rate\"], combined[combined[\"fn rate\"].notna()][\"rate of all\"])"
   ]
  },
  {
   "cell_type": "code",
   "execution_count": null,
   "metadata": {},
   "outputs": [],
   "source": [
    "g = sns.scatterplot(x=\"occurence\",y=\"fn\", hue=\"Embedding approach\", style=\"Embedding approach\", data=combined)\n",
    "for label in g.get_xticklabels():\n",
    "    label.set_rotation(90)"
   ]
  },
  {
   "cell_type": "code",
   "execution_count": null,
   "metadata": {},
   "outputs": [],
   "source": [
    "#corr = combined[[\"occurence\",\"fn\",\"fp\",\"avg node degree\"]].corr(method=\"spearman\")\n",
    "#mask = np.zeros_like(corr)\n",
    "#mask[np.triu_indices_from(mask)] = True\n",
    "#with sns.axes_style(\"white\"):\n",
    "#    sns.heatmap(corr, mask=mask, square=True, annot=True)\n",
    "sns.heatmap(combined[[\"fp rate\",\"fn rate\",\"avg node degree\",\"rate of all\"]].corr(method=\"spearman\"), annot=True)"
   ]
  },
  {
   "cell_type": "code",
   "execution_count": 7,
   "metadata": {},
   "outputs": [],
   "source": [
    "kg1_ent_id_files, kg2_ent_id_files, pred_files = _get_files(embedding_approaches[2], dataset_name, \"/home/dobraczka/Downloads/git/er-embedding-benchmark/data/\")\n",
    "df = create_typed_predictions(\n",
    "            kg1_ent_id_files,\n",
    "            kg2_ent_id_files,\n",
    "            pred_files,\n",
    "            type_files,\n",
    "            \"/home/dobraczka/Downloads/git/er-embedding-benchmark/data/OpenEA/typed_links/superclasses.json\",\n",
    "            1,\n",
    "            False,\n",
    "        )\n",
    "entity_degrees = get_entity_node_degrees(f\"/home/dobraczka/Downloads/git/er-embedding-benchmark/data/OpenEA/{dataset_name}\")"
   ]
  },
  {
   "cell_type": "code",
   "execution_count": null,
   "metadata": {},
   "outputs": [],
   "source": []
  },
  {
   "cell_type": "code",
   "execution_count": null,
   "metadata": {},
   "outputs": [],
   "source": [
    "ed = pd.Series(entity_degrees).to_frame(name=\"node degree\")\n",
    "ed.reset_index(inplace=True)\n",
    "ed_left = ed.rename(columns={\"index\": \"left_uri\"})\n",
    "ed_right = ed.rename(columns={\"index\": \"right_uri\"})\n",
    "left = ed_left.merge(df, on=\"left_uri\")[[\"left_uri\",\"node degree\"]]\n",
    "right = ed_right.merge(df, on=\"right_uri\")[[\"right_uri\",\"node degree\"]]\n",
    "left = left.drop_duplicates()\n",
    "right = right.drop_duplicates()\n",
    "left = left.rename(columns={\"node degree\": \"left node degree\"})\n",
    "right = right.rename(columns={\"node degree\": \"right node degree\"})\n",
    "df_nd = df.merge(left, on=\"left_uri\").merge(right, on=\"right_uri\")\n",
    "df_nd.loc[(df_nd[\"pred\"] == 0) & (df_nd[\"val\"] == 1), \"match_type\"] = \"False\\nNegative\"\n",
    "df_nd.loc[(df_nd[\"pred\"] == 1) & (df_nd[\"val\"] == 0), \"match_type\"] = \"False\\nPositive\"\n",
    "df_nd.loc[(df_nd[\"pred\"] == 1) & (df_nd[\"val\"] == 1), \"match_type\"] = \"True\\nPositive\"\n",
    "df_nd.loc[(df_nd[\"pred\"] == 0) & (df_nd[\"val\"] == 0), \"match_type\"] = \"True\\nNegative\"\n",
    "df_nd = df_nd.rename(columns={\"left node degree\": \"EN\",\"right node degree\":\"DE\"})\n",
    "melted = df_nd.melt(id_vars=[\"left_uri\",\"right_uri\",\"left_types\",\"right_types\",\"match_type\"], value_vars=[\"EN\",\"DE\"], var_name=\"node degree\", value_name=\"degree\")\n",
    "melted = melted.rename(columns={\"left node degree\": \"EN\",\"right node degree\":\"DE\"})"
   ]
  },
  {
   "cell_type": "code",
   "execution_count": 30,
   "metadata": {},
   "outputs": [],
   "source": [
    "dfs = []\n",
    "for e in embedding_approaches:\n",
    "    kg1_ent_id_files, kg2_ent_id_files, pred_files = _get_files(e, dataset_name, \"/home/dobraczka/Downloads/git/er-embedding-benchmark/data/\")\n",
    "    df = create_typed_predictions(\n",
    "            kg1_ent_id_files,\n",
    "            kg2_ent_id_files,\n",
    "            pred_files,\n",
    "            type_files,\n",
    "            \"/home/dobraczka/Downloads/git/er-embedding-benchmark/data/OpenEA/typed_links/superclasses.json\",\n",
    "            1,\n",
    "            False,\n",
    "        )\n",
    "    dfs.append(df)"
   ]
  },
  {
   "cell_type": "code",
   "execution_count": 36,
   "metadata": {},
   "outputs": [
    {
     "data": {
      "text/html": [
       "<div>\n",
       "<style scoped>\n",
       "    .dataframe tbody tr th:only-of-type {\n",
       "        vertical-align: middle;\n",
       "    }\n",
       "\n",
       "    .dataframe tbody tr th {\n",
       "        vertical-align: top;\n",
       "    }\n",
       "\n",
       "    .dataframe thead th {\n",
       "        text-align: right;\n",
       "    }\n",
       "</style>\n",
       "<table border=\"1\" class=\"dataframe\">\n",
       "  <thead>\n",
       "    <tr style=\"text-align: right;\">\n",
       "      <th></th>\n",
       "      <th>node degree</th>\n",
       "    </tr>\n",
       "    <tr>\n",
       "      <th>Type</th>\n",
       "      <th></th>\n",
       "    </tr>\n",
       "  </thead>\n",
       "  <tbody>\n",
       "    <tr>\n",
       "      <th>http://dbpedia.org/ontology/Activity</th>\n",
       "      <td>3.000000</td>\n",
       "    </tr>\n",
       "    <tr>\n",
       "      <th>http://dbpedia.org/ontology/Agent</th>\n",
       "      <td>21.687500</td>\n",
       "    </tr>\n",
       "    <tr>\n",
       "      <th>http://dbpedia.org/ontology/AnatomicalStructure</th>\n",
       "      <td>31.000000</td>\n",
       "    </tr>\n",
       "    <tr>\n",
       "      <th>http://dbpedia.org/ontology/Cartoon</th>\n",
       "      <td>5.250000</td>\n",
       "    </tr>\n",
       "    <tr>\n",
       "      <th>http://dbpedia.org/ontology/Device</th>\n",
       "      <td>29.045455</td>\n",
       "    </tr>\n",
       "    <tr>\n",
       "      <th>http://dbpedia.org/ontology/Event</th>\n",
       "      <td>12.057692</td>\n",
       "    </tr>\n",
       "    <tr>\n",
       "      <th>http://dbpedia.org/ontology/Film</th>\n",
       "      <td>7.365365</td>\n",
       "    </tr>\n",
       "    <tr>\n",
       "      <th>http://dbpedia.org/ontology/Language</th>\n",
       "      <td>9.689655</td>\n",
       "    </tr>\n",
       "    <tr>\n",
       "      <th>http://dbpedia.org/ontology/Location</th>\n",
       "      <td>14.142370</td>\n",
       "    </tr>\n",
       "    <tr>\n",
       "      <th>http://dbpedia.org/ontology/MeanOfTransportation</th>\n",
       "      <td>11.864407</td>\n",
       "    </tr>\n",
       "    <tr>\n",
       "      <th>http://dbpedia.org/ontology/MusicalWork</th>\n",
       "      <td>9.331801</td>\n",
       "    </tr>\n",
       "    <tr>\n",
       "      <th>http://dbpedia.org/ontology/Organisation</th>\n",
       "      <td>26.035473</td>\n",
       "    </tr>\n",
       "    <tr>\n",
       "      <th>http://dbpedia.org/ontology/Person</th>\n",
       "      <td>16.753870</td>\n",
       "    </tr>\n",
       "    <tr>\n",
       "      <th>http://dbpedia.org/ontology/Place</th>\n",
       "      <td>2.500000</td>\n",
       "    </tr>\n",
       "    <tr>\n",
       "      <th>http://dbpedia.org/ontology/Software</th>\n",
       "      <td>8.290030</td>\n",
       "    </tr>\n",
       "    <tr>\n",
       "      <th>http://dbpedia.org/ontology/Species</th>\n",
       "      <td>5.000000</td>\n",
       "    </tr>\n",
       "    <tr>\n",
       "      <th>http://dbpedia.org/ontology/TelevisionEpisode</th>\n",
       "      <td>5.500000</td>\n",
       "    </tr>\n",
       "    <tr>\n",
       "      <th>http://dbpedia.org/ontology/TelevisionShow</th>\n",
       "      <td>8.771635</td>\n",
       "    </tr>\n",
       "    <tr>\n",
       "      <th>http://dbpedia.org/ontology/TopicalConcept</th>\n",
       "      <td>18.235849</td>\n",
       "    </tr>\n",
       "    <tr>\n",
       "      <th>http://dbpedia.org/ontology/Website</th>\n",
       "      <td>9.500000</td>\n",
       "    </tr>\n",
       "    <tr>\n",
       "      <th>http://dbpedia.org/ontology/WrittenWork</th>\n",
       "      <td>6.125000</td>\n",
       "    </tr>\n",
       "    <tr>\n",
       "      <th>http://www.w3.org/2002/07/owl#Thing</th>\n",
       "      <td>12.858696</td>\n",
       "    </tr>\n",
       "  </tbody>\n",
       "</table>\n",
       "</div>"
      ],
      "text/plain": [
       "                                                  node degree\n",
       "Type                                                         \n",
       "http://dbpedia.org/ontology/Activity                 3.000000\n",
       "http://dbpedia.org/ontology/Agent                   21.687500\n",
       "http://dbpedia.org/ontology/AnatomicalStructure     31.000000\n",
       "http://dbpedia.org/ontology/Cartoon                  5.250000\n",
       "http://dbpedia.org/ontology/Device                  29.045455\n",
       "http://dbpedia.org/ontology/Event                   12.057692\n",
       "http://dbpedia.org/ontology/Film                     7.365365\n",
       "http://dbpedia.org/ontology/Language                 9.689655\n",
       "http://dbpedia.org/ontology/Location                14.142370\n",
       "http://dbpedia.org/ontology/MeanOfTransportation    11.864407\n",
       "http://dbpedia.org/ontology/MusicalWork              9.331801\n",
       "http://dbpedia.org/ontology/Organisation            26.035473\n",
       "http://dbpedia.org/ontology/Person                  16.753870\n",
       "http://dbpedia.org/ontology/Place                    2.500000\n",
       "http://dbpedia.org/ontology/Software                 8.290030\n",
       "http://dbpedia.org/ontology/Species                  5.000000\n",
       "http://dbpedia.org/ontology/TelevisionEpisode        5.500000\n",
       "http://dbpedia.org/ontology/TelevisionShow           8.771635\n",
       "http://dbpedia.org/ontology/TopicalConcept          18.235849\n",
       "http://dbpedia.org/ontology/Website                  9.500000\n",
       "http://dbpedia.org/ontology/WrittenWork              6.125000\n",
       "http://www.w3.org/2002/07/owl#Thing                 12.858696"
      ]
     },
     "execution_count": 36,
     "metadata": {},
     "output_type": "execute_result"
    }
   ],
   "source": [
    "average_node_degree(dfs[0],entity_degrees)"
   ]
  },
  {
   "cell_type": "code",
   "execution_count": null,
   "metadata": {},
   "outputs": [],
   "source": [
    "with sns.axes_style(\"darkgrid\",{\"ytick.left\":True}):\n",
    "    \n",
    "    g = sns.stripplot(x=\"match_type\",y=\"degree\",hue=\"node degree\",dodge=True,jitter=0.35,size=2,data=melted)\n",
    "    g.set_yscale(\"log\")\n",
    "    plt.set\n",
    "    print(sns.axes_style())"
   ]
  },
  {
   "cell_type": "code",
   "execution_count": null,
   "metadata": {},
   "outputs": [],
   "source": [
    "sns.boxenplot(x=\"match_type\",y=\"degree\",hue=\"node degree\",data=melted)"
   ]
  },
  {
   "cell_type": "code",
   "execution_count": 10,
   "metadata": {},
   "outputs": [],
   "source": [
    "def set_errors(df, pred, val):\n",
    "    if (df[\"pred\"] == pred) & (df[\"val\"] == val):\n",
    "        return 1\n",
    "    else:\n",
    "        return 0"
   ]
  },
  {
   "cell_type": "code",
   "execution_count": null,
   "metadata": {},
   "outputs": [],
   "source": []
  },
  {
   "cell_type": "code",
   "execution_count": 11,
   "metadata": {},
   "outputs": [],
   "source": [
    "def calc_measures(data):\n",
    "    df = data.copy()\n",
    "    df[\"fn\"] = df.apply(set_errors, args=(0,1), axis=1)\n",
    "    df[\"fp\"] = df.apply(set_errors, args=(1,0), axis=1)\n",
    "    df[\"tp\"] = df.apply(set_errors, args=(1,1), axis=1)\n",
    "    df[\"tn\"] = df.apply(set_errors, args=(0,0), axis=1)\n",
    "    summed = (df.groupby(\"left_types\").sum() + df.groupby(\"right_types\").sum()) / 2\n",
    "    summed[\"prec\"] = summed[\"tp\"] / (summed[\"tp\"]+summed[\"fp\"])\n",
    "    summed[\"rec\"] = summed[\"tp\"] / (summed[\"tp\"]+summed[\"fn\"])\n",
    "    summed[\"fm\"] = 2*(summed[\"prec\"]*summed[\"rec\"]/(summed[\"prec\"]+summed[\"rec\"]))\n",
    "    return summed[[\"prec\",\"rec\",\"fm\"]]"
   ]
  },
  {
   "cell_type": "code",
   "execution_count": null,
   "metadata": {},
   "outputs": [],
   "source": [
    "measured_df_bootea = calc_measures(df)"
   ]
  },
  {
   "cell_type": "code",
   "execution_count": null,
   "metadata": {},
   "outputs": [],
   "source": [
    "measured_df_multike = calc_measures(df)"
   ]
  },
  {
   "cell_type": "code",
   "execution_count": null,
   "metadata": {},
   "outputs": [],
   "source": [
    "measured_df_rdgcn = calc_measures(df)"
   ]
  },
  {
   "cell_type": "code",
   "execution_count": 12,
   "metadata": {},
   "outputs": [],
   "source": [
    "measured = []\n",
    "for d in dfs:\n",
    "    measured.append(calc_measures(d))"
   ]
  },
  {
   "cell_type": "code",
   "execution_count": 13,
   "metadata": {},
   "outputs": [],
   "source": [
    "#A.columns = pd.MultiIndex.from_product([[\"BootEA\"], measured_df_bootea.columns])\n",
    "#B.columns = pd.MultiIndex.from_product([['MultiKE'], measured_df_multike.columns])\n",
    "#C.columns = pd.MultiIndex.from_product([['RDGCN'], measured_df_rdgcn.columns])\n",
    "\n",
    "mult = pd.concat(measured, axis = 1, keys=([\"BootEA\",\"MultiKE\",\"RDGCN\"]))"
   ]
  },
  {
   "cell_type": "code",
   "execution_count": 31,
   "metadata": {},
   "outputs": [],
   "source": [
    "final = mult.sort_index(axis=1, level=1).swaplevel(axis=1)"
   ]
  },
  {
   "cell_type": "code",
   "execution_count": 32,
   "metadata": {},
   "outputs": [],
   "source": [
    "final = final.reset_index().rename(columns={\"left_types\":\"Type\"})\n",
    "#final[\"Type\"] = [x.split(\"/\")[-1].split(\"#\")[-1] for x in final[\"Type\"].astype(str)]\n",
    "final = final.set_index(\"Type\").drop(\"index\",level=0,axis=1)"
   ]
  },
  {
   "cell_type": "code",
   "execution_count": null,
   "metadata": {},
   "outputs": [],
   "source": [
    "final.fillna(-1).style.background_gradient(cmap='Greens',axis=1)"
   ]
  },
  {
   "cell_type": "code",
   "execution_count": 44,
   "metadata": {},
   "outputs": [],
   "source": [
    "melted = final[\"fm\"].reset_index().melt(id_vars=[\"Type\"],value_vars=[\"BootEA\",\"MultiKE\",\"RDGCN\"], var_name=\"Approach\",value_name=\"F-measure\")\n",
    "melted = melted.set_index(\"Type\")"
   ]
  },
  {
   "cell_type": "code",
   "execution_count": 49,
   "metadata": {},
   "outputs": [
    {
     "data": {
      "text/html": [
       "<div>\n",
       "<style scoped>\n",
       "    .dataframe tbody tr th:only-of-type {\n",
       "        vertical-align: middle;\n",
       "    }\n",
       "\n",
       "    .dataframe tbody tr th {\n",
       "        vertical-align: top;\n",
       "    }\n",
       "\n",
       "    .dataframe thead th {\n",
       "        text-align: right;\n",
       "    }\n",
       "</style>\n",
       "<table border=\"1\" class=\"dataframe\">\n",
       "  <thead>\n",
       "    <tr style=\"text-align: right;\">\n",
       "      <th></th>\n",
       "      <th>Type</th>\n",
       "      <th>Approach</th>\n",
       "      <th>F-measure</th>\n",
       "      <th>node degree</th>\n",
       "    </tr>\n",
       "  </thead>\n",
       "  <tbody>\n",
       "    <tr>\n",
       "      <th>0</th>\n",
       "      <td>http://dbpedia.org/ontology/Activity</td>\n",
       "      <td>BootEA</td>\n",
       "      <td>NaN</td>\n",
       "      <td>3.000000</td>\n",
       "    </tr>\n",
       "    <tr>\n",
       "      <th>3</th>\n",
       "      <td>http://dbpedia.org/ontology/Agent</td>\n",
       "      <td>BootEA</td>\n",
       "      <td>NaN</td>\n",
       "      <td>21.687500</td>\n",
       "    </tr>\n",
       "    <tr>\n",
       "      <th>6</th>\n",
       "      <td>http://dbpedia.org/ontology/AnatomicalStructure</td>\n",
       "      <td>BootEA</td>\n",
       "      <td>0.500000</td>\n",
       "      <td>31.000000</td>\n",
       "    </tr>\n",
       "    <tr>\n",
       "      <th>9</th>\n",
       "      <td>http://dbpedia.org/ontology/Cartoon</td>\n",
       "      <td>BootEA</td>\n",
       "      <td>0.933333</td>\n",
       "      <td>5.250000</td>\n",
       "    </tr>\n",
       "    <tr>\n",
       "      <th>12</th>\n",
       "      <td>http://dbpedia.org/ontology/Device</td>\n",
       "      <td>BootEA</td>\n",
       "      <td>0.877698</td>\n",
       "      <td>29.045455</td>\n",
       "    </tr>\n",
       "    <tr>\n",
       "      <th>15</th>\n",
       "      <td>http://dbpedia.org/ontology/Event</td>\n",
       "      <td>BootEA</td>\n",
       "      <td>0.351852</td>\n",
       "      <td>12.057692</td>\n",
       "    </tr>\n",
       "    <tr>\n",
       "      <th>18</th>\n",
       "      <td>http://dbpedia.org/ontology/Film</td>\n",
       "      <td>BootEA</td>\n",
       "      <td>0.866589</td>\n",
       "      <td>7.365365</td>\n",
       "    </tr>\n",
       "    <tr>\n",
       "      <th>21</th>\n",
       "      <td>http://dbpedia.org/ontology/Language</td>\n",
       "      <td>BootEA</td>\n",
       "      <td>0.840580</td>\n",
       "      <td>9.689655</td>\n",
       "    </tr>\n",
       "    <tr>\n",
       "      <th>24</th>\n",
       "      <td>http://dbpedia.org/ontology/Location</td>\n",
       "      <td>BootEA</td>\n",
       "      <td>0.785478</td>\n",
       "      <td>14.142370</td>\n",
       "    </tr>\n",
       "    <tr>\n",
       "      <th>27</th>\n",
       "      <td>http://dbpedia.org/ontology/MeanOfTransportation</td>\n",
       "      <td>BootEA</td>\n",
       "      <td>0.590444</td>\n",
       "      <td>11.864407</td>\n",
       "    </tr>\n",
       "    <tr>\n",
       "      <th>30</th>\n",
       "      <td>http://dbpedia.org/ontology/MusicalWork</td>\n",
       "      <td>BootEA</td>\n",
       "      <td>0.867791</td>\n",
       "      <td>9.331801</td>\n",
       "    </tr>\n",
       "    <tr>\n",
       "      <th>33</th>\n",
       "      <td>http://dbpedia.org/ontology/Organisation</td>\n",
       "      <td>BootEA</td>\n",
       "      <td>0.875451</td>\n",
       "      <td>26.035473</td>\n",
       "    </tr>\n",
       "    <tr>\n",
       "      <th>36</th>\n",
       "      <td>http://dbpedia.org/ontology/Person</td>\n",
       "      <td>BootEA</td>\n",
       "      <td>0.972665</td>\n",
       "      <td>16.753870</td>\n",
       "    </tr>\n",
       "    <tr>\n",
       "      <th>39</th>\n",
       "      <td>http://dbpedia.org/ontology/Place</td>\n",
       "      <td>BootEA</td>\n",
       "      <td>NaN</td>\n",
       "      <td>2.500000</td>\n",
       "    </tr>\n",
       "    <tr>\n",
       "      <th>42</th>\n",
       "      <td>http://dbpedia.org/ontology/Software</td>\n",
       "      <td>BootEA</td>\n",
       "      <td>0.910882</td>\n",
       "      <td>8.290030</td>\n",
       "    </tr>\n",
       "    <tr>\n",
       "      <th>45</th>\n",
       "      <td>http://dbpedia.org/ontology/Species</td>\n",
       "      <td>BootEA</td>\n",
       "      <td>NaN</td>\n",
       "      <td>5.000000</td>\n",
       "    </tr>\n",
       "    <tr>\n",
       "      <th>48</th>\n",
       "      <td>http://dbpedia.org/ontology/TelevisionEpisode</td>\n",
       "      <td>BootEA</td>\n",
       "      <td>1.000000</td>\n",
       "      <td>5.500000</td>\n",
       "    </tr>\n",
       "    <tr>\n",
       "      <th>51</th>\n",
       "      <td>http://dbpedia.org/ontology/TelevisionShow</td>\n",
       "      <td>BootEA</td>\n",
       "      <td>0.862016</td>\n",
       "      <td>8.771635</td>\n",
       "    </tr>\n",
       "    <tr>\n",
       "      <th>54</th>\n",
       "      <td>http://dbpedia.org/ontology/TopicalConcept</td>\n",
       "      <td>BootEA</td>\n",
       "      <td>0.331878</td>\n",
       "      <td>18.235849</td>\n",
       "    </tr>\n",
       "    <tr>\n",
       "      <th>57</th>\n",
       "      <td>http://dbpedia.org/ontology/Website</td>\n",
       "      <td>BootEA</td>\n",
       "      <td>NaN</td>\n",
       "      <td>9.500000</td>\n",
       "    </tr>\n",
       "    <tr>\n",
       "      <th>60</th>\n",
       "      <td>http://dbpedia.org/ontology/WrittenWork</td>\n",
       "      <td>BootEA</td>\n",
       "      <td>0.181818</td>\n",
       "      <td>6.125000</td>\n",
       "    </tr>\n",
       "    <tr>\n",
       "      <th>63</th>\n",
       "      <td>http://www.w3.org/2002/07/owl#Thing</td>\n",
       "      <td>BootEA</td>\n",
       "      <td>0.485437</td>\n",
       "      <td>12.858696</td>\n",
       "    </tr>\n",
       "  </tbody>\n",
       "</table>\n",
       "</div>"
      ],
      "text/plain": [
       "                                                Type Approach  F-measure  \\\n",
       "0               http://dbpedia.org/ontology/Activity   BootEA        NaN   \n",
       "3                  http://dbpedia.org/ontology/Agent   BootEA        NaN   \n",
       "6    http://dbpedia.org/ontology/AnatomicalStructure   BootEA   0.500000   \n",
       "9                http://dbpedia.org/ontology/Cartoon   BootEA   0.933333   \n",
       "12                http://dbpedia.org/ontology/Device   BootEA   0.877698   \n",
       "15                 http://dbpedia.org/ontology/Event   BootEA   0.351852   \n",
       "18                  http://dbpedia.org/ontology/Film   BootEA   0.866589   \n",
       "21              http://dbpedia.org/ontology/Language   BootEA   0.840580   \n",
       "24              http://dbpedia.org/ontology/Location   BootEA   0.785478   \n",
       "27  http://dbpedia.org/ontology/MeanOfTransportation   BootEA   0.590444   \n",
       "30           http://dbpedia.org/ontology/MusicalWork   BootEA   0.867791   \n",
       "33          http://dbpedia.org/ontology/Organisation   BootEA   0.875451   \n",
       "36                http://dbpedia.org/ontology/Person   BootEA   0.972665   \n",
       "39                 http://dbpedia.org/ontology/Place   BootEA        NaN   \n",
       "42              http://dbpedia.org/ontology/Software   BootEA   0.910882   \n",
       "45               http://dbpedia.org/ontology/Species   BootEA        NaN   \n",
       "48     http://dbpedia.org/ontology/TelevisionEpisode   BootEA   1.000000   \n",
       "51        http://dbpedia.org/ontology/TelevisionShow   BootEA   0.862016   \n",
       "54        http://dbpedia.org/ontology/TopicalConcept   BootEA   0.331878   \n",
       "57               http://dbpedia.org/ontology/Website   BootEA        NaN   \n",
       "60           http://dbpedia.org/ontology/WrittenWork   BootEA   0.181818   \n",
       "63               http://www.w3.org/2002/07/owl#Thing   BootEA   0.485437   \n",
       "\n",
       "    node degree  \n",
       "0      3.000000  \n",
       "3     21.687500  \n",
       "6     31.000000  \n",
       "9      5.250000  \n",
       "12    29.045455  \n",
       "15    12.057692  \n",
       "18     7.365365  \n",
       "21     9.689655  \n",
       "24    14.142370  \n",
       "27    11.864407  \n",
       "30     9.331801  \n",
       "33    26.035473  \n",
       "36    16.753870  \n",
       "39     2.500000  \n",
       "42     8.290030  \n",
       "45     5.000000  \n",
       "48     5.500000  \n",
       "51     8.771635  \n",
       "54    18.235849  \n",
       "57     9.500000  \n",
       "60     6.125000  \n",
       "63    12.858696  "
      ]
     },
     "execution_count": 49,
     "metadata": {},
     "output_type": "execute_result"
    }
   ],
   "source": [
    "nds = melted.join(average_node_degree(dfs[0],entity_degrees))\n",
    "nds.reset_index(inplace=True)\n",
    "nds[nds[\"Approach\"]==\"BootEA\"]"
   ]
  },
  {
   "cell_type": "code",
   "execution_count": 51,
   "metadata": {},
   "outputs": [
    {
     "data": {
      "text/plain": [
       "<AxesSubplot:xlabel='node degree', ylabel='F-measure'>"
      ]
     },
     "execution_count": 51,
     "metadata": {},
     "output_type": "execute_result"
    },
    {
     "data": {
      "image/png": "[encoded data removed]",
      "text/plain": [
       "<Figure size 432x288 with 1 Axes>"
      ]
     },
     "metadata": {},
     "output_type": "display_data"
    }
   ],
   "source": [
    "sns.scatterplot(x=\"node degree\",y=\"F-measure\",data=nds[nds[\"Approach\"]==\"BootEA\"])"
   ]
  }
 ],
 "metadata": {
  "kernelspec": {
   "display_name": "Python 3",
   "language": "python",
   "name": "python3"
  },
  "language_info": {
   "codemirror_mode": {
    "name": "ipython",
    "version": 3
   },
   "file_extension": ".py",
   "mimetype": "text/x-python",
   "name": "python",
   "nbconvert_exporter": "python",
   "pygments_lexer": "ipython3",
   "version": "3.7.6"
  }
 },
 "nbformat": 4,
 "nbformat_minor": 4
}
