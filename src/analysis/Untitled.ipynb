{
 "cells": [
  {
   "cell_type": "code",
   "execution_count": 1,
   "metadata": {},
   "outputs": [],
   "source": [
    "import numpy as np\n",
    "import pandas as pd\n",
    "import plotly.express as px\n",
    "from sklearn.decomposition import PCA"
   ]
  },
  {
   "cell_type": "code",
   "execution_count": 35,
   "metadata": {},
   "outputs": [
    {
     "data": {
      "application/vnd.plotly.v1+json": {
       "config": {
        "plotlyServerURL": "https://plot.ly"
       },
       "data": [
        {
         "customdata": [
          [
           "http://dbpedia.org/ontology/starring"
          ],
          [
           "http://www.wikidata.org/entity/P161"
          ],
          [
           "http://dbpedia.org/ontology/producer"
          ],
          [
           "http://www.wikidata.org/entity/P31"
          ],
          [
           "http://dbpedia.org/ontology/writer"
          ],
          [
           "http://www.wikidata.org/entity/P57"
          ],
          [
           "http://dbpedia.org/ontology/birthPlace"
          ],
          [
           "http://www.wikidata.org/entity/P86"
          ],
          [
           "http://dbpedia.org/ontology/director"
          ],
          [
           "http://www.wikidata.org/entity/P54"
          ],
          [
           "http://dbpedia.org/ontology/musicComposer"
          ],
          [
           "http://www.wikidata.org/entity/P162"
          ],
          [
           "http://dbpedia.org/ontology/recordLabel"
          ],
          [
           "http://www.wikidata.org/entity/P175"
          ],
          [
           "http://dbpedia.org/ontology/cinematography"
          ],
          [
           "http://www.wikidata.org/entity/P106"
          ],
          [
           "http://dbpedia.org/ontology/distributor"
          ],
          [
           "http://www.wikidata.org/entity/P58"
          ],
          [
           "http://dbpedia.org/ontology/formerTeam"
          ],
          [
           "http://www.wikidata.org/entity/P344"
          ],
          [
           "http://dbpedia.org/ontology/musicalBand"
          ],
          [
           "http://www.wikidata.org/entity/P264"
          ],
          [
           "http://dbpedia.org/ontology/musicalArtist"
          ],
          [
           "http://www.wikidata.org/entity/P19"
          ],
          [
           "http://dbpedia.org/ontology/genre"
          ],
          [
           "http://www.wikidata.org/entity/P495"
          ],
          [
           "http://dbpedia.org/ontology/subsequentWork"
          ],
          [
           "http://www.wikidata.org/entity/P27"
          ],
          [
           "http://dbpedia.org/ontology/previousWork"
          ],
          [
           "http://www.wikidata.org/entity/P136"
          ],
          [
           "http://dbpedia.org/ontology/deathPlace"
          ],
          [
           "http://www.wikidata.org/entity/P155"
          ],
          [
           "http://dbpedia.org/ontology/country"
          ],
          [
           "http://www.wikidata.org/entity/P156"
          ],
          [
           "http://dbpedia.org/ontology/editing"
          ],
          [
           "http://www.wikidata.org/entity/P17"
          ],
          [
           "http://dbpedia.org/ontology/associatedMusicalArtist"
          ],
          [
           "http://www.wikidata.org/entity/P69"
          ],
          [
           "http://dbpedia.org/ontology/associatedBand"
          ],
          [
           "http://www.wikidata.org/entity/P190"
          ],
          [
           "http://dbpedia.org/ontology/almaMater"
          ],
          [
           "http://www.wikidata.org/entity/P20"
          ],
          [
           "http://dbpedia.org/ontology/artist"
          ],
          [
           "http://www.wikidata.org/entity/P364"
          ],
          [
           "http://dbpedia.org/ontology/occupation"
          ],
          [
           "http://www.wikidata.org/entity/P750"
          ],
          [
           "http://dbpedia.org/ontology/series"
          ],
          [
           "http://www.wikidata.org/entity/P272"
          ],
          [
           "http://dbpedia.org/ontology/publisher"
          ],
          [
           "http://www.wikidata.org/entity/P1040"
          ],
          [
           "http://www.w3.org/2000/01/rdf-schema#seeAlso"
          ],
          [
           "http://www.wikidata.org/entity/P179"
          ],
          [
           "http://dbpedia.org/ontology/language"
          ],
          [
           "http://www.wikidata.org/entity/P840"
          ],
          [
           "http://dbpedia.org/ontology/instrument"
          ],
          [
           "http://www.wikidata.org/entity/P131"
          ],
          [
           "http://dbpedia.org/ontology/isPartOf"
          ],
          [
           "http://www.wikidata.org/entity/P123"
          ],
          [
           "http://dbpedia.org/ontology/format"
          ],
          [
           "http://www.wikidata.org/entity/P915"
          ],
          [
           "http://dbpedia.org/ontology/draftTeam"
          ],
          [
           "http://www.wikidata.org/entity/P166"
          ],
          [
           "http://dbpedia.org/ontology/team"
          ],
          [
           "http://www.wikidata.org/entity/P647"
          ],
          [
           "http://dbpedia.org/ontology/award"
          ],
          [
           "http://www.wikidata.org/entity/P449"
          ],
          [
           "http://dbpedia.org/ontology/recordedIn"
          ],
          [
           "http://www.wikidata.org/entity/P1303"
          ],
          [
           "http://dbpedia.org/ontology/computingPlatform"
          ],
          [
           "http://www.wikidata.org/entity/P676"
          ],
          [
           "http://dbpedia.org/ontology/position"
          ],
          [
           "http://www.wikidata.org/entity/P607"
          ],
          [
           "http://dbpedia.org/ontology/location"
          ],
          [
           "http://www.wikidata.org/entity/P1412"
          ],
          [
           "http://dbpedia.org/ontology/type"
          ],
          [
           "http://www.wikidata.org/entity/P102"
          ],
          [
           "http://dbpedia.org/ontology/battle"
          ],
          [
           "http://www.wikidata.org/entity/P400"
          ],
          [
           "http://dbpedia.org/ontology/network"
          ],
          [
           "http://www.wikidata.org/entity/P413"
          ],
          [
           "http://dbpedia.org/ontology/hometown"
          ],
          [
           "http://www.wikidata.org/entity/P108"
          ],
          [
           "http://dbpedia.org/ontology/residence"
          ],
          [
           "http://www.wikidata.org/entity/P937"
          ],
          [
           "http://dbpedia.org/ontology/guest"
          ],
          [
           "http://www.wikidata.org/entity/P178"
          ],
          [
           "http://dbpedia.org/ontology/party"
          ],
          [
           "http://www.wikidata.org/entity/P509"
          ],
          [
           "http://dbpedia.org/ontology/developer"
          ],
          [
           "http://www.wikidata.org/entity/P172"
          ],
          [
           "http://dbpedia.org/ontology/nationality"
          ],
          [
           "http://www.wikidata.org/entity/P921"
          ],
          [
           "http://dbpedia.org/ontology/author"
          ],
          [
           "http://www.wikidata.org/entity/P47"
          ],
          [
           "http://dbpedia.org/ontology/literaryGenre"
          ],
          [
           "http://www.wikidata.org/entity/P159"
          ],
          [
           "http://dbpedia.org/ontology/timeZone"
          ],
          [
           "http://www.wikidata.org/entity/P50"
          ],
          [
           "http://dbpedia.org/ontology/composer"
          ],
          [
           "http://www.wikidata.org/entity/P437"
          ],
          [
           "http://dbpedia.org/ontology/spouse"
          ],
          [
           "http://www.wikidata.org/entity/P170"
          ],
          [
           "http://dbpedia.org/ontology/album"
          ],
          [
           "http://www.wikidata.org/entity/P150"
          ],
          [
           "http://dbpedia.org/ontology/creator"
          ],
          [
           "http://www.wikidata.org/entity/P737"
          ],
          [
           "http://dbpedia.org/ontology/influencedBy"
          ],
          [
           "http://www.wikidata.org/entity/P1431"
          ],
          [
           "http://dbpedia.org/ontology/narrator"
          ],
          [
           "http://www.wikidata.org/entity/P463"
          ],
          [
           "http://dbpedia.org/ontology/restingPlace"
          ],
          [
           "http://www.wikidata.org/entity/P119"
          ],
          [
           "http://dbpedia.org/ontology/city"
          ],
          [
           "http://www.wikidata.org/entity/P36"
          ],
          [
           "http://dbpedia.org/ontology/executiveProducer"
          ],
          [
           "http://www.wikidata.org/entity/P1376"
          ],
          [
           "http://dbpedia.org/ontology/industry"
          ],
          [
           "http://www.wikidata.org/entity/P452"
          ],
          [
           "http://dbpedia.org/ontology/channel"
          ],
          [
           "http://www.wikidata.org/entity/P30"
          ],
          [
           "http://dbpedia.org/ontology/education"
          ],
          [
           "http://www.wikidata.org/entity/P361"
          ],
          [
           "http://dbpedia.org/ontology/religion"
          ],
          [
           "http://www.wikidata.org/entity/P171"
          ],
          [
           "http://dbpedia.org/ontology/owner"
          ],
          [
           "http://www.wikidata.org/entity/P241"
          ],
          [
           "http://dbpedia.org/ontology/headquarter"
          ],
          [
           "http://www.wikidata.org/entity/P140"
          ],
          [
           "http://dbpedia.org/ontology/company"
          ],
          [
           "http://www.wikidata.org/entity/P7"
          ],
          [
           "http://dbpedia.org/ontology/parentCompany"
          ],
          [
           "http://www.wikidata.org/entity/P551"
          ],
          [
           "http://dbpedia.org/ontology/locationCity"
          ],
          [
           "http://www.wikidata.org/entity/P137"
          ],
          [
           "http://dbpedia.org/ontology/league"
          ],
          [
           "http://www.wikidata.org/entity/P40"
          ],
          [
           "http://dbpedia.org/ontology/voice"
          ],
          [
           "http://www.wikidata.org/entity/P135"
          ],
          [
           "http://dbpedia.org/ontology/successor"
          ],
          [
           "http://www.wikidata.org/entity/P26"
          ],
          [
           "http://dbpedia.org/ontology/deathCause"
          ],
          [
           "http://www.wikidata.org/entity/P22"
          ],
          [
           "http://dbpedia.org/ontology/stateOfOrigin"
          ],
          [
           "http://www.wikidata.org/entity/P740"
          ],
          [
           "http://dbpedia.org/ontology/ideology"
          ],
          [
           "http://www.wikidata.org/entity/P279"
          ],
          [
           "http://dbpedia.org/ontology/leaderParty"
          ],
          [
           "http://www.wikidata.org/entity/P1142"
          ],
          [
           "http://www.w3.org/2002/07/owl#differentFrom"
          ],
          [
           "http://www.wikidata.org/entity/P37"
          ],
          [
           "http://dbpedia.org/ontology/state"
          ],
          [
           "http://www.wikidata.org/entity/P127"
          ],
          [
           "http://dbpedia.org/ontology/predecessor"
          ],
          [
           "http://www.wikidata.org/entity/P527"
          ],
          [
           "http://dbpedia.org/ontology/capital"
          ],
          [
           "http://www.wikidata.org/entity/P421"
          ],
          [
           "http://dbpedia.org/ontology/parent"
          ],
          [
           "http://www.wikidata.org/entity/P118"
          ],
          [
           "http://dbpedia.org/ontology/basedOn"
          ],
          [
           "http://www.wikidata.org/entity/P408"
          ],
          [
           "http://dbpedia.org/ontology/movement"
          ],
          [
           "http://www.wikidata.org/entity/P176"
          ],
          [
           "http://dbpedia.org/ontology/related"
          ],
          [
           "http://www.wikidata.org/entity/P275"
          ],
          [
           "http://dbpedia.org/ontology/license"
          ],
          [
           "http://www.wikidata.org/entity/P112"
          ],
          [
           "http://dbpedia.org/ontology/genus"
          ],
          [
           "http://www.wikidata.org/entity/P412"
          ],
          [
           "http://dbpedia.org/ontology/relative"
          ],
          [
           "http://www.wikidata.org/entity/P1344"
          ],
          [
           "http://dbpedia.org/ontology/gameEngine"
          ],
          [
           "http://www.wikidata.org/entity/P674"
          ],
          [
           "http://dbpedia.org/ontology/region"
          ],
          [
           "http://www.wikidata.org/entity/P800"
          ],
          [
           "http://dbpedia.org/ontology/ground"
          ],
          [
           "http://www.wikidata.org/entity/P530"
          ],
          [
           "http://dbpedia.org/ontology/foundedBy"
          ],
          [
           "http://www.wikidata.org/entity/P144"
          ],
          [
           "http://dbpedia.org/ontology/class"
          ],
          [
           "http://www.wikidata.org/entity/P138"
          ],
          [
           "http://dbpedia.org/ontology/affiliation"
          ],
          [
           "http://www.wikidata.org/entity/P101"
          ],
          [
           "http://dbpedia.org/ontology/profession"
          ],
          [
           "http://www.wikidata.org/entity/P641"
          ],
          [
           "http://dbpedia.org/ontology/owningOrganisation"
          ],
          [
           "http://www.wikidata.org/entity/P2438"
          ],
          [
           "http://dbpedia.org/ontology/locationCountry"
          ],
          [
           "http://www.wikidata.org/entity/P355"
          ],
          [
           "http://dbpedia.org/ontology/influenced"
          ],
          [
           "http://www.wikidata.org/entity/P749"
          ],
          [
           "http://dbpedia.org/ontology/formerBandMember"
          ],
          [
           "http://www.wikidata.org/entity/P197"
          ],
          [
           "http://dbpedia.org/ontology/spokenIn"
          ],
          [
           "http://www.wikidata.org/entity/P767"
          ],
          [
           "http://dbpedia.org/ontology/product"
          ],
          [
           "http://www.wikidata.org/entity/P451"
          ],
          [
           "http://dbpedia.org/ontology/operator"
          ],
          [
           "http://www.wikidata.org/entity/P206"
          ],
          [
           "http://dbpedia.org/ontology/militaryBranch"
          ],
          [
           "http://www.wikidata.org/entity/P184"
          ],
          [
           "http://dbpedia.org/ontology/distributingLabel"
          ],
          [
           "http://www.wikidata.org/entity/P103"
          ],
          [
           "http://dbpedia.org/ontology/distributingCompany"
          ],
          [
           "http://www.wikidata.org/entity/P706"
          ],
          [
           "http://dbpedia.org/ontology/bandMember"
          ],
          [
           "http://www.wikidata.org/entity/P276"
          ],
          [
           "http://dbpedia.org/ontology/knownFor"
          ],
          [
           "http://www.wikidata.org/entity/P1441"
          ],
          [
           "http://dbpedia.org/ontology/foundationPlace"
          ],
          [
           "http://www.wikidata.org/entity/P126"
          ],
          [
           "http://dbpedia.org/ontology/populationPlace"
          ],
          [
           "http://www.wikidata.org/entity/P9"
          ],
          [
           "http://dbpedia.org/ontology/family"
          ],
          [
           "http://www.wikidata.org/entity/P287"
          ],
          [
           "http://dbpedia.org/ontology/child"
          ],
          [
           "http://www.wikidata.org/entity/P2554"
          ],
          [
           "http://dbpedia.org/ontology/ethnicity"
          ],
          [
           "http://www.wikidata.org/entity/P25"
          ],
          [
           "http://dbpedia.org/ontology/officialLanguage"
          ],
          [
           "http://www.wikidata.org/entity/P149"
          ],
          [
           "http://dbpedia.org/ontology/place"
          ],
          [
           "http://www.wikidata.org/entity/P407"
          ],
          [
           "http://dbpedia.org/ontology/builder"
          ],
          [
           "http://www.wikidata.org/entity/P1383"
          ],
          [
           "http://dbpedia.org/ontology/regionServed"
          ],
          [
           "http://www.wikidata.org/entity/P84"
          ],
          [
           "http://dbpedia.org/ontology/manufacturer"
          ],
          [
           "http://www.wikidata.org/entity/P611"
          ],
          [
           "http://dbpedia.org/ontology/locatedInArea"
          ],
          [
           "http://www.wikidata.org/entity/P466"
          ],
          [
           "http://dbpedia.org/ontology/field"
          ],
          [
           "http://www.wikidata.org/entity/P462"
          ],
          [
           "http://dbpedia.org/ontology/employer"
          ],
          [
           "http://www.wikidata.org/entity/P403"
          ],
          [
           "http://dbpedia.org/ontology/assembly"
          ],
          [
           "http://www.wikidata.org/entity/P2512"
          ],
          [
           "http://dbpedia.org/ontology/portrayer"
          ],
          [
           "http://www.wikidata.org/entity/P87"
          ],
          [
           "http://dbpedia.org/ontology/owningCompany"
          ],
          [
           "http://www.wikidata.org/entity/P710"
          ],
          [
           "http://dbpedia.org/ontology/colour"
          ],
          [
           "http://www.wikidata.org/entity/P2936"
          ],
          [
           "http://dbpedia.org/ontology/largestCity"
          ],
          [
           "http://www.wikidata.org/entity/P277"
          ],
          [
           "http://dbpedia.org/ontology/training"
          ],
          [
           "http://www.wikidata.org/entity/P1408"
          ],
          [
           "http://dbpedia.org/ontology/president"
          ],
          [
           "http://www.wikidata.org/entity/P1366"
          ],
          [
           "http://dbpedia.org/ontology/partner"
          ],
          [
           "http://www.wikidata.org/entity/P1365"
          ],
          [
           "http://dbpedia.org/ontology/operatedBy"
          ],
          [
           "http://www.wikidata.org/entity/P945"
          ],
          [
           "http://dbpedia.org/ontology/notableWork"
          ],
          [
           "http://www.wikidata.org/entity/P941"
          ],
          [
           "http://dbpedia.org/ontology/keyPerson"
          ],
          [
           "http://www.wikidata.org/entity/P658"
          ],
          [
           "http://dbpedia.org/ontology/garrison"
          ],
          [
           "http://www.wikidata.org/entity/P306"
          ],
          [
           "http://dbpedia.org/ontology/doctoralAdvisor"
          ],
          [
           "http://www.wikidata.org/entity/P2541"
          ],
          [
           "http://dbpedia.org/ontology/primeMinister"
          ],
          [
           "http://www.wikidata.org/entity/P1716"
          ],
          [
           "http://dbpedia.org/ontology/mountainRange"
          ],
          [
           "http://www.wikidata.org/entity/P1532"
          ],
          [
           "http://dbpedia.org/ontology/debutTeam"
          ],
          [
           "http://www.wikidata.org/entity/P1071"
          ],
          [
           "http://dbpedia.org/ontology/stylisticOrigin"
          ],
          [
           "http://www.wikidata.org/entity/P991"
          ],
          [
           "http://dbpedia.org/ontology/citizenship"
          ],
          [
           "http://www.wikidata.org/entity/P81"
          ],
          [
           "http://dbpedia.org/ontology/broadcastArea"
          ],
          [
           "http://www.wikidata.org/entity/P61"
          ],
          [
           "http://dbpedia.org/ontology/architecturalStyle"
          ],
          [
           "http://www.wikidata.org/entity/P504"
          ],
          [
           "http://dbpedia.org/ontology/twinTown"
          ],
          [
           "http://www.wikidata.org/entity/P469"
          ],
          [
           "http://dbpedia.org/ontology/subsidiary"
          ],
          [
           "http://www.wikidata.org/entity/P461"
          ],
          [
           "http://dbpedia.org/ontology/picture"
          ],
          [
           "http://www.wikidata.org/entity/P425"
          ],
          [
           "http://dbpedia.org/ontology/person"
          ],
          [
           "http://www.wikidata.org/entity/P2348"
          ],
          [
           "http://dbpedia.org/ontology/musicBy"
          ],
          [
           "http://www.wikidata.org/entity/P205"
          ],
          [
           "http://dbpedia.org/ontology/managerClub"
          ],
          [
           "http://www.wikidata.org/entity/P195"
          ],
          [
           "http://dbpedia.org/ontology/leaderName"
          ],
          [
           "http://www.wikidata.org/entity/P1387"
          ],
          [
           "http://dbpedia.org/ontology/isPartOfMilitaryConflict"
          ],
          [
           "http://www.wikidata.org/entity/P802"
          ],
          [
           "http://dbpedia.org/ontology/councilArea"
          ],
          [
           "http://www.wikidata.org/entity/P735"
          ],
          [
           "http://dbpedia.org/ontology/tenant"
          ],
          [
           "http://www.wikidata.org/entity/P726"
          ],
          [
           "http://dbpedia.org/ontology/part"
          ],
          [
           "http://www.wikidata.org/entity/P725"
          ],
          [
           "http://dbpedia.org/ontology/lyrics"
          ],
          [
           "http://www.wikidata.org/entity/P501"
          ],
          [
           "http://dbpedia.org/ontology/ethnicGroup"
          ],
          [
           "http://www.wikidata.org/entity/P488"
          ],
          [
           "http://dbpedia.org/ontology/designer"
          ],
          [
           "http://www.wikidata.org/entity/P485"
          ],
          [
           "http://dbpedia.org/ontology/countySeat"
          ],
          [
           "http://www.wikidata.org/entity/P410"
          ],
          [
           "http://dbpedia.org/ontology/territory"
          ],
          [
           "http://www.wikidata.org/entity/P406"
          ],
          [
           "http://dbpedia.org/ontology/riverMouth"
          ],
          [
           "http://www.wikidata.org/entity/P289"
          ],
          [
           "http://dbpedia.org/ontology/programmingLanguage"
          ],
          [
           "http://www.wikidata.org/entity/P286"
          ],
          [
           "http://dbpedia.org/ontology/operatingSystem"
          ],
          [
           "http://www.wikidata.org/entity/P263"
          ],
          [
           "http://dbpedia.org/ontology/monarch"
          ],
          [
           "http://www.wikidata.org/entity/P201"
          ],
          [
           "http://dbpedia.org/ontology/lieutenancyArea"
          ],
          [
           "http://www.wikidata.org/entity/P200"
          ],
          [
           "http://dbpedia.org/ontology/doctoralStudent"
          ],
          [
           "http://www.wikidata.org/entity/P1889"
          ],
          [
           "http://dbpedia.org/ontology/district"
          ],
          [
           "http://www.wikidata.org/entity/P185"
          ],
          [
           "http://dbpedia.org/ontology/commander"
          ],
          [
           "http://www.wikidata.org/entity/P1811"
          ],
          [
           "http://dbpedia.org/ontology/college"
          ],
          [
           "http://www.wikidata.org/entity/P180"
          ],
          [
           "http://dbpedia.org/ontology/architect"
          ],
          [
           "http://www.wikidata.org/entity/P1427"
          ],
          [
           "http://dbpedia.org/ontology/routeJunction"
          ],
          [
           "http://www.wikidata.org/entity/P134"
          ],
          [
           "http://dbpedia.org/ontology/otherParty"
          ],
          [
           "http://www.wikidata.org/entity/P1336"
          ],
          [
           "http://dbpedia.org/ontology/openingTheme"
          ],
          [
           "http://www.wikidata.org/entity/P122"
          ],
          [
           "http://dbpedia.org/ontology/nonFictionSubject"
          ],
          [
           "http://www.wikidata.org/entity/P1066"
          ],
          [
           "http://dbpedia.org/ontology/musicFusionGenre"
          ],
          [
           "http://www.wikidata.org/entity/P1056"
          ],
          [
           "http://dbpedia.org/ontology/daylightSavingTimeZone"
          ],
          [
           "http://www.wikidata.org/entity/P1018"
          ],
          [
           "http://dbpedia.org/ontology/whaDraftTeam"
          ],
          [
           "http://dbpedia.org/ontology/university"
          ],
          [
           "http://dbpedia.org/ontology/twinCountry"
          ],
          [
           "http://dbpedia.org/ontology/sisterStation"
          ],
          [
           "http://dbpedia.org/ontology/sisterCollege"
          ],
          [
           "http://dbpedia.org/ontology/relation"
          ],
          [
           "http://dbpedia.org/ontology/origin"
          ],
          [
           "http://dbpedia.org/ontology/order"
          ],
          [
           "http://dbpedia.org/ontology/nearestCity"
          ],
          [
           "http://dbpedia.org/ontology/musicSubgenre"
          ],
          [
           "http://dbpedia.org/ontology/institution"
          ],
          [
           "http://dbpedia.org/ontology/governmentType"
          ],
          [
           "http://dbpedia.org/ontology/frazioni"
          ],
          [
           "http://dbpedia.org/ontology/deputy"
          ],
          [
           "http://dbpedia.org/ontology/sourceCountry"
          ],
          [
           "http://dbpedia.org/ontology/servingRailwayLine"
          ],
          [
           "http://dbpedia.org/ontology/routeStart"
          ],
          [
           "http://dbpedia.org/ontology/routeEnd"
          ],
          [
           "http://dbpedia.org/ontology/principalArea"
          ],
          [
           "http://dbpedia.org/ontology/presenter"
          ],
          [
           "http://dbpedia.org/ontology/placeOfBurial"
          ],
          [
           "http://dbpedia.org/ontology/phylum"
          ],
          [
           "http://dbpedia.org/ontology/philosophicalSchool"
          ],
          [
           "http://dbpedia.org/ontology/originalLanguage"
          ],
          [
           "http://dbpedia.org/ontology/museum"
          ],
          [
           "http://dbpedia.org/ontology/inflow"
          ],
          [
           "http://dbpedia.org/ontology/firstLeader"
          ],
          [
           "http://dbpedia.org/ontology/discoverer"
          ],
          [
           "http://dbpedia.org/ontology/chancellor"
          ],
          [
           "http://dbpedia.org/ontology/canton"
          ],
          [
           "http://dbpedia.org/ontology/campus"
          ],
          [
           "http://dbpedia.org/ontology/academicDiscipline"
          ],
          [
           "http://dbpedia.org/ontology/splitFromParty"
          ],
          [
           "http://dbpedia.org/ontology/sourceConfluencePlace"
          ],
          [
           "http://dbpedia.org/ontology/sourceConfluenceMountain"
          ],
          [
           "http://dbpedia.org/ontology/significantProject"
          ],
          [
           "http://dbpedia.org/ontology/significantBuilding"
          ],
          [
           "http://dbpedia.org/ontology/service"
          ],
          [
           "http://dbpedia.org/ontology/secondLeader"
          ],
          [
           "http://dbpedia.org/ontology/saint"
          ],
          [
           "http://dbpedia.org/ontology/relatedMeanOfTransportation"
          ],
          [
           "http://dbpedia.org/ontology/regionalLanguage"
          ],
          [
           "http://dbpedia.org/ontology/previousEvent"
          ],
          [
           "http://dbpedia.org/ontology/photographer"
          ],
          [
           "http://dbpedia.org/ontology/parentOrganisation"
          ],
          [
           "http://dbpedia.org/ontology/outflow"
          ],
          [
           "http://dbpedia.org/ontology/notableCommander"
          ],
          [
           "http://dbpedia.org/ontology/mouthCountry"
          ],
          [
           "http://dbpedia.org/ontology/militaryRank"
          ],
          [
           "http://dbpedia.org/ontology/mergedIntoParty"
          ],
          [
           "http://dbpedia.org/ontology/mediaType"
          ],
          [
           "http://dbpedia.org/ontology/majorShrine"
          ],
          [
           "http://dbpedia.org/ontology/mainInterest"
          ],
          [
           "http://dbpedia.org/ontology/lowestPlace"
          ],
          [
           "http://dbpedia.org/ontology/lowestMountain"
          ],
          [
           "http://dbpedia.org/ontology/leader"
          ],
          [
           "http://dbpedia.org/ontology/lastAppearance"
          ],
          [
           "http://dbpedia.org/ontology/largestSettlement"
          ],
          [
           "http://dbpedia.org/ontology/languageRegulator"
          ],
          [
           "http://dbpedia.org/ontology/homeport"
          ],
          [
           "http://dbpedia.org/ontology/highschool"
          ],
          [
           "http://dbpedia.org/ontology/governor"
          ],
          [
           "http://dbpedia.org/ontology/followingEvent"
          ],
          [
           "http://dbpedia.org/ontology/federalState"
          ],
          [
           "http://dbpedia.org/ontology/endingTheme"
          ],
          [
           "http://dbpedia.org/ontology/division"
          ],
          [
           "http://dbpedia.org/ontology/derivative"
          ],
          [
           "http://dbpedia.org/ontology/county"
          ],
          [
           "http://dbpedia.org/ontology/commandStructure"
          ],
          [
           "http://dbpedia.org/ontology/coachedTeam"
          ],
          [
           "http://dbpedia.org/ontology/coach"
          ],
          [
           "http://dbpedia.org/ontology/capitalRegion"
          ],
          [
           "http://dbpedia.org/ontology/capitalCountry"
          ],
          [
           "http://dbpedia.org/ontology/border"
          ],
          [
           "http://dbpedia.org/ontology/board"
          ],
          [
           "http://dbpedia.org/ontology/beatifiedBy"
          ],
          [
           "http://dbpedia.org/ontology/archipelago"
          ],
          [
           "http://dbpedia.org/ontology/anthem"
          ],
          [
           "http://dbpedia.org/ontology/animator"
          ]
         ],
         "hovertemplate": "pc1=%{x}<br>pc2=%{y}<br>name=%{customdata[0]}<extra></extra>",
         "legendgroup": "",
         "marker": {
          "color": "#636efa",
          "symbol": "circle"
         },
         "mode": "markers",
         "name": "",
         "orientation": "v",
         "showlegend": false,
         "type": "scatter",
         "x": [
          -0.5003880262374878,
          -0.47269654273986816,
          -0.6192087531089783,
          -0.26679134368896484,
          -0.6429349780082703,
          -0.6078890562057495,
          0.7316782474517822,
          -0.5026009678840637,
          -0.6696597933769226,
          0.10814783722162247,
          -0.42282527685165405,
          -0.6013649702072144,
          -0.05589819326996803,
          -0.36920270323753357,
          -0.3930230438709259,
          0.30640020966529846,
          -0.2830794155597687,
          -0.6106218695640564,
          0.11457662284374237,
          -0.3926497995853424,
          -0.4503682255744934,
          -0.09452509880065918,
          -0.44919899106025696,
          0.6630924940109253,
          -0.023551760241389275,
          0.018113739788532257,
          -0.060452159494161606,
          0.5382357239723206,
          0.022237343713641167,
          -0.08118844777345657,
          0.6807313561439514,
          0.03844210505485535,
          0.3163030743598938,
          -0.07101189345121384,
          -0.5030551552772522,
          0.15681543946266174,
          -0.08153427392244339,
          0.20278912782669067,
          -0.08260554075241089,
          0.01048785075545311,
          0.18926160037517548,
          0.6399555802345276,
          -0.42510563135147095,
          -0.15581148862838745,
          0.33905431628227234,
          -0.25591012835502625,
          0.018661728128790855,
          -0.3034251928329468,
          -0.23797686398029327,
          -0.5384899377822876,
          0.20054849982261658,
          0.03241320326924324,
          -0.16892842948436737,
          0.025395581498742104,
          0.22482286393642426,
          0.3118899166584015,
          0.11001215130090714,
          -0.24801644682884216,
          -0.018269117921590805,
          0.08297763764858246,
          0.10371595621109009,
          0.10995186120271683,
          0.12866978347301483,
          0.10471895337104797,
          0.16239939630031586,
          -0.3225245773792267,
          0.17608749866485596,
          0.2018304020166397,
          0.0477093830704689,
          -0.46384522318840027,
          0.04102146998047829,
          0.23233149945735931,
          0.4266817569732666,
          0.34741905331611633,
          -0.07045283913612366,
          0.05560794845223427,
          0.19987155497074127,
          0.053249578922986984,
          -0.29877495765686035,
          0.11368318647146225,
          0.6096522808074951,
          0.16983312368392944,
          0.6941185593605042,
          0.5279975533485413,
          -0.24188818037509918,
          -0.2490474283695221,
          0.13378146290779114,
          0.31815090775489807,
          -0.24787279963493347,
          0.2931261360645294,
          0.6210829019546509,
          -0.08917661011219025,
          -0.5102930665016174,
          -0.045200396329164505,
          -0.15580642223358154,
          0.3113955855369568,
          -0.2710288465023041,
          -0.3537004888057709,
          -0.48417848348617554,
          -0.011397951282560825,
          -0.06761322170495987,
          -0.5376926064491272,
          -0.11367177218198776,
          -0.17862333357334137,
          -0.5433810353279114,
          -0.14897766709327698,
          -0.02645658142864704,
          -0.6183041334152222,
          -0.613924503326416,
          0.1202816367149353,
          0.6228618025779724,
          0.2746063768863678,
          0.39062967896461487,
          -0.10084546357393265,
          -0.5746614933013916,
          0.06470505893230438,
          0.1363571733236313,
          0.076191246509552,
          -0.34453636407852173,
          -0.21647146344184875,
          0.20949606597423553,
          -0.0003008935309480876,
          0.18553102016448975,
          0.02483280561864376,
          0.06542067974805832,
          0.18162313103675842,
          0.3934651017189026,
          0.26169922947883606,
          -0.3444540500640869,
          -0.11828034371137619,
          0.000928729132283479,
          0.5865138173103333,
          0.39586198329925537,
          0.16459257900714874,
          -0.029064379632472992,
          -0.09102342277765274,
          -0.38476288318634033,
          0.14384491741657257,
          0.020193951204419136,
          0.038371458649635315,
          0.332031786441803,
          0.06533727794885635,
          0.6501457095146179,
          0.30762362480163574,
          0.09817442297935486,
          -0.04859768599271774,
          -0.2741002142429352,
          0.04810051620006561,
          0.10202962160110474,
          -0.263837993144989,
          0.3401862382888794,
          0.20178638398647308,
          -0.05293648689985275,
          -0.11862441152334213,
          -0.19602859020233154,
          -0.35758858919143677,
          0.039565298706293106,
          -0.039961885660886765,
          -0.46718674898147583,
          -0.024408629164099693,
          0.17246286571025848,
          -0.05343451350927353,
          -0.0420614629983902,
          -0.15191097557544708,
          -0.1539793461561203,
          -0.3157743811607361,
          -0.06165982782840729,
          0.13900095224380493,
          0.055914659053087234,
          0.07409165799617767,
          -0.028774123638868332,
          0.011275352910161018,
          0.455738365650177,
          0.4851142168045044,
          0.3443978428840637,
          0.045972391963005066,
          -0.31020888686180115,
          0.1024525836110115,
          -0.028853869065642357,
          -0.35176849365234375,
          -0.014932600781321526,
          0.11413389444351196,
          0.23190787434577942,
          0.10758274793624878,
          0.05048495903611183,
          -0.4335716664791107,
          0.4987580180168152,
          -0.1391996294260025,
          0.01845182478427887,
          0.09393393993377686,
          -0.18076346814632416,
          -0.09402385354042053,
          0.3733566105365753,
          -0.03457949310541153,
          0.1922495812177658,
          0.013287721201777458,
          0.14305657148361206,
          -0.061978720128536224,
          0.06829333305358887,
          -0.06268371641635895,
          -0.05015861988067627,
          0.3232101798057556,
          -0.05045459792017937,
          0.1684701144695282,
          -0.1279328465461731,
          0.14104707539081573,
          0.5276291966438293,
          0.08866699039936066,
          0.4624441862106323,
          0.026431335136294365,
          0.35225561261177063,
          0.07745002955198288,
          -0.0710044652223587,
          -0.4220955967903137,
          -0.08117327094078064,
          -0.49030935764312744,
          0.32628464698791504,
          0.01550749409943819,
          -0.25888463854789734,
          -0.08834028244018555,
          0.2585251033306122,
          0.016873231157660484,
          0.08176331222057343,
          -0.33861634135246277,
          0.4148162305355072,
          -0.15763862431049347,
          -0.1783980280160904,
          0.15004833042621613,
          0.1817493885755539,
          0.14739102125167847,
          0.17496760189533234,
          -0.022088758647441864,
          0.20610857009887695,
          0.12745195627212524,
          0.18321189284324646,
          -0.09374018758535385,
          -0.221086323261261,
          -0.40888476371765137,
          0.02347959764301777,
          0.0532245971262455,
          0.02920985408127308,
          -0.1627640724182129,
          -0.2023986428976059,
          -0.15806815028190613,
          0.11549714207649231,
          0.16205044090747833,
          -0.07360873371362686,
          -0.14317235350608826,
          -0.0008218983421102166,
          0.1025189533829689,
          0.02057644911110401,
          0.22095206379890442,
          0.42387813329696655,
          -0.09408614039421082,
          -0.3239399492740631,
          -0.041092902421951294,
          0.4285224378108978,
          0.0980314165353775,
          -0.059674814343452454,
          0.25443851947784424,
          -0.004255983978509903,
          -0.03712153062224388,
          0.03061639703810215,
          0.18787045776844025,
          0.13845275342464447,
          0.2172718197107315,
          0.0006216908222995698,
          -0.3320469558238983,
          0.5761566162109375,
          -0.08189980685710907,
          0.5349557399749756,
          -0.10245464742183685,
          -0.025196973234415054,
          0.1908750981092453,
          -0.06354973465204239,
          -0.03592921793460846,
          0.01146314013749361,
          -0.0973590835928917,
          -0.37176746129989624,
          0.07962261140346527,
          -0.30841413140296936,
          0.21320423483848572,
          -0.4219307005405426,
          0.035805217921733856,
          0.08658058941364288,
          0.018336111679673195,
          -0.07377993315458298,
          0.03128286823630333,
          -0.09287551790475845,
          0.024631092324852943,
          -0.11431770026683807,
          -0.04706869646906853,
          0.0674431324005127,
          -0.36737534403800964,
          -0.015668848529458046,
          -0.14768493175506592,
          -0.48806288838386536,
          -0.05176221951842308,
          -0.2281021773815155,
          -0.1553460657596588,
          -0.2998231053352356,
          0.1517481803894043,
          -0.13430817425251007,
          0.15759676694869995,
          0.24791163206100464,
          -0.10442672669887543,
          0.1493844985961914,
          -0.02603876404464245,
          0.013800961896777153,
          -0.17235876619815826,
          0.05801996961236,
          0.1321502923965454,
          0.09767484664916992,
          0.04426294192671776,
          -0.09638148546218872,
          -0.010675977915525436,
          0.04828949645161629,
          -0.01895703189074993,
          0.1998303234577179,
          0.08896493911743164,
          -0.15749788284301758,
          -0.06803341209888458,
          0.10287176072597504,
          -0.06627316027879715,
          0.06738971173763275,
          0.049649231135845184,
          0.308978408575058,
          0.008097128942608833,
          0.15854085981845856,
          0.20350056886672974,
          -0.2770377993583679,
          -0.08384086936712265,
          -0.10661984980106354,
          -0.03963806480169296,
          -0.045292098075151443,
          -0.19002455472946167,
          -0.1278582364320755,
          0.02315424010157585,
          0.09308595210313797,
          0.14156189560890198,
          0.03290146589279175,
          -0.05616678297519684,
          0.06778651475906372,
          0.06958677619695663,
          0.2584293484687805,
          -0.031853869557380676,
          0.20408037304878235,
          -0.07274199277162552,
          0.06172492727637291,
          -0.10473578423261642,
          0.0008556734537705779,
          -0.13883432745933533,
          0.2691761553287506,
          -0.08707849681377411,
          0.13755090534687042,
          0.19322191178798676,
          -0.05011275038123131,
          -0.49039533734321594,
          0.39645931124687195,
          -0.0144036915153265,
          0.08337777107954025,
          -0.08382844924926758,
          0.042465586215257645,
          -0.11604978889226913,
          -0.3295510411262512,
          -0.08746630698442459,
          0.0028188438154757023,
          0.03192335367202759,
          0.27616381645202637,
          -0.21408425271511078,
          -0.057552777230739594,
          0.2955929636955261,
          0.28557807207107544,
          0.17585489153862,
          0.4831210672855377,
          -0.03259536251425743,
          -0.33371803164482117,
          -0.2205168455839157,
          -0.06815092265605927,
          -0.20963497459888458,
          -0.03659693896770477,
          0.0082589415833354,
          0.03478631749749184,
          -0.18135610222816467,
          -0.09518587589263916,
          0.2299295961856842,
          0.011465112678706646,
          -0.05524565279483795,
          0.071500264108181,
          0.33518120646476746,
          0.07340209186077118,
          0.24951529502868652,
          0.2559736371040344,
          -0.21089251339435577,
          0.11122304946184158,
          -0.37004005908966064,
          -0.15573468804359436,
          0.18796707689762115,
          0.27233847975730896,
          0.043635044246912,
          -0.0059463572688400745,
          0.12350237369537354,
          -0.3207927346229553,
          -0.04418564960360527,
          -0.15554507076740265,
          0.2614845037460327,
          0.01306459866464138,
          0.1022997498512268,
          0.0019170981831848621,
          -0.06047501787543297,
          -0.1631663292646408,
          0.004798897076398134,
          -0.05783187597990036,
          -0.007641336880624294,
          0.24813959002494812,
          0.006456839852035046,
          -0.3723629117012024
         ],
         "xaxis": "x",
         "y": [
          -0.2064228355884552,
          -0.2436680793762207,
          -0.3194452226161957,
          -0.15721048414707184,
          -0.2837092876434326,
          -0.27360302209854126,
          0.09390589594841003,
          -0.0620029978454113,
          -0.27645885944366455,
          0.20116707682609558,
          -0.047269269824028015,
          -0.3376554250717163,
          0.15932878851890564,
          -0.20833560824394226,
          -0.1364392340183258,
          0.35575762391090393,
          -0.07334476709365845,
          -0.25347888469696045,
          0.18672610819339752,
          -0.1602730005979538,
          -0.21618042886257172,
          0.13826905190944672,
          -0.21609091758728027,
          0.1549646407365799,
          0.06272409111261368,
          -0.321236252784729,
          0.13405103981494904,
          -0.0992218405008316,
          -0.022510001435875893,
          0.06632080674171448,
          0.08583077043294907,
          -0.030220501124858856,
          -0.6025676727294922,
          0.14356806874275208,
          -0.15481877326965332,
          -0.6232251524925232,
          0.18903890252113342,
          0.5458837747573853,
          0.18970325589179993,
          -0.06328272819519043,
          0.4947082996368408,
          0.12881958484649658,
          -0.2385648787021637,
          -0.0645872950553894,
          0.25939851999282837,
          -0.08467800915241241,
          0.09564507007598877,
          -0.09321639686822891,
          0.25427234172821045,
          -0.1843843311071396,
          -0.633465051651001,
          0.08634021878242493,
          0.07222215086221695,
          -0.2757481336593628,
          0.28110232949256897,
          -0.6434453129768372,
          -0.5032215714454651,
          0.2065916806459427,
          -0.19311122596263885,
          -0.2677890956401825,
          0.1889520138502121,
          0.20500512421131134,
          0.19086158275604248,
          0.1995728313922882,
          0.1851758360862732,
          -0.014804905280470848,
          -0.17427481710910797,
          0.2567290961742401,
          0.017198218032717705,
          -0.2195609211921692,
          0.0412231981754303,
          0.09895367175340652,
          -0.31847453117370605,
          0.19280895590782166,
          -0.11336085200309753,
          0.3263348340988159,
          0.06750617176294327,
          0.018399493768811226,
          -0.08258082717657089,
          0.08286681771278381,
          0.11626724153757095,
          0.5110743045806885,
          0.06545653194189072,
          0.12970395386219025,
          -0.06510189920663834,
          0.21111388504505157,
          0.1797483116388321,
          0.1831260621547699,
          0.2491106390953064,
          0.11906864494085312,
          -0.07404886931180954,
          -0.03671082481741905,
          -0.09199021756649017,
          0.013914735987782478,
          0.16206680238246918,
          -0.06669355928897858,
          0.12452726066112518,
          -0.12114153802394867,
          -0.03649425506591797,
          -0.004692757967859507,
          0.14966842532157898,
          -0.1875305473804474,
          0.05902278050780296,
          0.7832284569740295,
          -0.20625810325145721,
          0.01063962746411562,
          0.15944409370422363,
          -0.2501104176044464,
          -0.18669365346431732,
          0.09083889424800873,
          0.028350848704576492,
          0.2790815830230713,
          -0.31524786353111267,
          0.7011798024177551,
          -0.22037482261657715,
          -0.5768347978591919,
          -0.11098763346672058,
          -0.004414887633174658,
          0.051927950233221054,
          0.11528009921312332,
          0.5379504561424255,
          0.0831519365310669,
          0.1418181210756302,
          -0.014817099086940289,
          -0.22851413488388062,
          0.10055914521217346,
          -0.09120243787765503,
          0.08303171396255493,
          -0.04824317619204521,
          0.12428176403045654,
          0.020985443145036697,
          0.03989338129758835,
          -0.07280059158802032,
          -0.27446624636650085,
          0.04845740646123886,
          0.16390858590602875,
          0.0034032189287245274,
          0.1417100578546524,
          0.033934034407138824,
          0.0640874058008194,
          0.20178304612636566,
          -0.06578944623470306,
          -0.053451117128133774,
          0.018041761592030525,
          -0.1624009758234024,
          -0.0031318762339651585,
          -0.11013685911893845,
          -0.22332435846328735,
          -0.058330900967121124,
          0.29941853880882263,
          -0.47730687260627747,
          -0.37442028522491455,
          0.06419414281845093,
          0.1212550476193428,
          0.7677011489868164,
          0.24511058628559113,
          -0.07451070845127106,
          -0.045463137328624725,
          -0.29210418462753296,
          0.07312630861997604,
          0.08852870017290115,
          0.061040423810482025,
          0.09266971051692963,
          0.06917046755552292,
          0.10647649317979813,
          -0.2648110091686249,
          0.08049323409795761,
          0.33729586005210876,
          -0.06443393230438232,
          0.08717848360538483,
          0.07029451429843903,
          0.08058614283800125,
          -0.21737749874591827,
          0.28755131363868713,
          -0.20925840735435486,
          0.011034880764782429,
          -0.23245979845523834,
          -0.15918655693531036,
          -0.1158902570605278,
          0.3133726119995117,
          -0.0771443098783493,
          0.2809922993183136,
          0.2918926477432251,
          -0.039009395986795425,
          -0.21228565275669098,
          -0.22893677651882172,
          -0.35591769218444824,
          0.21274563670158386,
          0.02427006885409355,
          -0.09815835952758789,
          -0.05549880489706993,
          -0.07326240837574005,
          -0.2919197678565979,
          -0.03543549031019211,
          -0.08332464098930359,
          -0.00028512702556326985,
          -0.2921012341976166,
          -0.10474245995283127,
          0.07712895423173904,
          0.16385100781917572,
          0.05861813947558403,
          0.13272131979465485,
          0.056696176528930664,
          -0.5798039436340332,
          -0.060370128601789474,
          -0.20941919088363647,
          0.2651303708553314,
          0.13238753378391266,
          -0.19938811659812927,
          -0.21702899038791656,
          -0.13682350516319275,
          -0.010961723513901234,
          0.037312161177396774,
          0.0922890454530716,
          0.21273460984230042,
          -0.20175522565841675,
          0.029904000461101532,
          0.0004992808680981398,
          0.29693955183029175,
          -0.21408124268054962,
          -0.13824781775474548,
          0.10130781680345535,
          0.04147348925471306,
          0.6272832155227661,
          -0.2366350293159485,
          -0.07885628938674927,
          0.07981616258621216,
          0.049863170832395554,
          -0.20820730924606323,
          -0.2750866711139679,
          0.20510083436965942,
          -0.1364070177078247,
          0.48507899045944214,
          -0.17513421177864075,
          -0.03386307135224342,
          0.2090015858411789,
          -0.08661434054374695,
          -0.15646378695964813,
          -0.23160207271575928,
          -0.2143232673406601,
          0.001118033193051815,
          0.1483749896287918,
          0.7383660078048706,
          0.039838436990976334,
          0.2777836322784424,
          0.08459900319576263,
          0.128380686044693,
          0.23540611565113068,
          -0.016491562128067017,
          -0.12408240139484406,
          -0.3408713638782501,
          -0.16794800758361816,
          0.25092509388923645,
          0.11185957491397858,
          -0.1616905927658081,
          -0.024221673607826233,
          -0.23431400954723358,
          -0.04390087351202965,
          0.07524971663951874,
          -0.305580735206604,
          0.09240200370550156,
          0.03894480690360069,
          0.10546109825372696,
          -0.48559993505477905,
          0.17802435159683228,
          0.02682747319340706,
          -0.04911894351243973,
          -0.2208026945590973,
          -0.07492555677890778,
          0.0033770992886275053,
          -0.3373502492904663,
          0.01692016050219536,
          -0.16617536544799805,
          -0.04083291441202164,
          0.03409774228930473,
          -0.07256223261356354,
          0.01026677992194891,
          -0.09965246915817261,
          -0.2761960029602051,
          0.03442547842860222,
          -0.15478137135505676,
          -0.11003687977790833,
          0.028857219964265823,
          -0.015434924513101578,
          0.2709735631942749,
          -0.003967145923525095,
          -0.34392231702804565,
          -0.016449399292469025,
          0.13671205937862396,
          0.04084394872188568,
          -0.143998920917511,
          0.2791576087474823,
          -0.2269023060798645,
          -0.26270219683647156,
          0.32660946249961853,
          -0.03122912347316742,
          -0.06833387166261673,
          0.20866326987743378,
          0.16120223701000214,
          -0.12977798283100128,
          0.12651307880878448,
          0.20425079762935638,
          0.6212794184684753,
          0.10416782647371292,
          -0.14494585990905762,
          -0.005665350705385208,
          -0.2171310931444168,
          0.051002323627471924,
          0.023400548845529556,
          0.08978547900915146,
          -0.017598599195480347,
          0.1397559940814972,
          0.1777353286743164,
          0.12547707557678223,
          -0.164577454328537,
          0.21894977986812592,
          -0.0039247265085577965,
          0.053813811391592026,
          -0.1661241203546524,
          -0.056109778583049774,
          0.047274552285671234,
          -0.03485411778092384,
          0.06772418320178986,
          -0.036222584545612335,
          0.08948725461959839,
          0.030560288578271866,
          -0.3607538938522339,
          0.044822532683610916,
          0.17274674773216248,
          -0.253898948431015,
          -0.0936962217092514,
          0.08223174512386322,
          0.10206404328346252,
          0.07385790348052979,
          0.20244333148002625,
          -0.11187344044446945,
          -0.10889038443565369,
          -0.03661324828863144,
          0.19422808289527893,
          0.3790123760700226,
          -0.251897931098938,
          0.15844900906085968,
          0.054372817277908325,
          -0.11383405327796936,
          -0.36430707573890686,
          -0.08794475346803665,
          -0.12202253192663193,
          0.09354446828365326,
          0.362741619348526,
          -0.014901451766490936,
          -0.029062043875455856,
          0.06538388878107071,
          -0.526549756526947,
          0.24792194366455078,
          -0.3029937446117401,
          -0.38575252890586853,
          -0.08513804525136948,
          -0.17463624477386475,
          0.019763238728046417,
          -0.045021604746580124,
          0.19413533806800842,
          0.015373565256595612,
          0.09554217010736465,
          0.2610059082508087,
          0.10137379169464111,
          0.13369113206863403,
          0.32912150025367737,
          -0.08028174191713333,
          -0.22390048205852509,
          0.28815609216690063,
          0.01859337091445923,
          -0.3930710554122925,
          -0.4239571988582611,
          -0.045783333480358124,
          -0.012234143912792206,
          -0.028095193207263947,
          0.06544061005115509,
          -0.030905209481716156,
          0.10057583451271057,
          0.19459202885627747,
          -0.01288019958883524,
          0.10870832949876785,
          0.018880469724535942,
          0.28587886691093445,
          0.14110034704208374,
          -0.5558201670646667,
          0.05999387800693512,
          -0.000599724124185741,
          -0.01258170884102583,
          0.09742360562086105,
          0.16464878618717194,
          -0.1487787514925003,
          -0.14883564412593842,
          0.10322491079568863,
          0.16583599150180817,
          0.6304716467857361,
          0.159569650888443,
          -0.03017319366335869,
          0.029388180002570152,
          -0.0554967038333416,
          0.11980757117271423,
          -0.34429407119750977,
          0.004621980246156454,
          0.0781625509262085,
          0.37581416964530945,
          -0.3689125180244446,
          -0.05346722528338432,
          0.09783431887626648,
          0.09691642224788666,
          0.05331152305006981,
          0.06666234135627747,
          0.28371289372444153,
          0.2807377874851227,
          0.08180811256170273,
          -0.5026845932006836,
          0.15180596709251404,
          -0.07290831208229065
         ],
         "yaxis": "y"
        }
       ],
       "layout": {
        "legend": {
         "tracegroupgap": 0
        },
        "margin": {
         "t": 60
        },
        "template": {
         "data": {
          "bar": [
           {
            "error_x": {
             "color": "#2a3f5f"
            },
            "error_y": {
             "color": "#2a3f5f"
            },
            "marker": {
             "line": {
              "color": "#E5ECF6",
              "width": 0.5
             }
            },
            "type": "bar"
           }
          ],
          "barpolar": [
           {
            "marker": {
             "line": {
              "color": "#E5ECF6",
              "width": 0.5
             }
            },
            "type": "barpolar"
           }
          ],
          "carpet": [
           {
            "aaxis": {
             "endlinecolor": "#2a3f5f",
             "gridcolor": "white",
             "linecolor": "white",
             "minorgridcolor": "white",
             "startlinecolor": "#2a3f5f"
            },
            "baxis": {
             "endlinecolor": "#2a3f5f",
             "gridcolor": "white",
             "linecolor": "white",
             "minorgridcolor": "white",
             "startlinecolor": "#2a3f5f"
            },
            "type": "carpet"
           }
          ],
          "choropleth": [
           {
            "colorbar": {
             "outlinewidth": 0,
             "ticks": ""
            },
            "type": "choropleth"
           }
          ],
          "contour": [
           {
            "colorbar": {
             "outlinewidth": 0,
             "ticks": ""
            },
            "colorscale": [
             [
              0,
              "#0d0887"
             ],
             [
              0.1111111111111111,
              "#46039f"
             ],
             [
              0.2222222222222222,
              "#7201a8"
             ],
             [
              0.3333333333333333,
              "#9c179e"
             ],
             [
              0.4444444444444444,
              "#bd3786"
             ],
             [
              0.5555555555555556,
              "#d8576b"
             ],
             [
              0.6666666666666666,
              "#ed7953"
             ],
             [
              0.7777777777777778,
              "#fb9f3a"
             ],
             [
              0.8888888888888888,
              "#fdca26"
             ],
             [
              1,
              "#f0f921"
             ]
            ],
            "type": "contour"
           }
          ],
          "contourcarpet": [
           {
            "colorbar": {
             "outlinewidth": 0,
             "ticks": ""
            },
            "type": "contourcarpet"
           }
          ],
          "heatmap": [
           {
            "colorbar": {
             "outlinewidth": 0,
             "ticks": ""
            },
            "colorscale": [
             [
              0,
              "#0d0887"
             ],
             [
              0.1111111111111111,
              "#46039f"
             ],
             [
              0.2222222222222222,
              "#7201a8"
             ],
             [
              0.3333333333333333,
              "#9c179e"
             ],
             [
              0.4444444444444444,
              "#bd3786"
             ],
             [
              0.5555555555555556,
              "#d8576b"
             ],
             [
              0.6666666666666666,
              "#ed7953"
             ],
             [
              0.7777777777777778,
              "#fb9f3a"
             ],
             [
              0.8888888888888888,
              "#fdca26"
             ],
             [
              1,
              "#f0f921"
             ]
            ],
            "type": "heatmap"
           }
          ],
          "heatmapgl": [
           {
            "colorbar": {
             "outlinewidth": 0,
             "ticks": ""
            },
            "colorscale": [
             [
              0,
              "#0d0887"
             ],
             [
              0.1111111111111111,
              "#46039f"
             ],
             [
              0.2222222222222222,
              "#7201a8"
             ],
             [
              0.3333333333333333,
              "#9c179e"
             ],
             [
              0.4444444444444444,
              "#bd3786"
             ],
             [
              0.5555555555555556,
              "#d8576b"
             ],
             [
              0.6666666666666666,
              "#ed7953"
             ],
             [
              0.7777777777777778,
              "#fb9f3a"
             ],
             [
              0.8888888888888888,
              "#fdca26"
             ],
             [
              1,
              "#f0f921"
             ]
            ],
            "type": "heatmapgl"
           }
          ],
          "histogram": [
           {
            "marker": {
             "colorbar": {
              "outlinewidth": 0,
              "ticks": ""
             }
            },
            "type": "histogram"
           }
          ],
          "histogram2d": [
           {
            "colorbar": {
             "outlinewidth": 0,
             "ticks": ""
            },
            "colorscale": [
             [
              0,
              "#0d0887"
             ],
             [
              0.1111111111111111,
              "#46039f"
             ],
             [
              0.2222222222222222,
              "#7201a8"
             ],
             [
              0.3333333333333333,
              "#9c179e"
             ],
             [
              0.4444444444444444,
              "#bd3786"
             ],
             [
              0.5555555555555556,
              "#d8576b"
             ],
             [
              0.6666666666666666,
              "#ed7953"
             ],
             [
              0.7777777777777778,
              "#fb9f3a"
             ],
             [
              0.8888888888888888,
              "#fdca26"
             ],
             [
              1,
              "#f0f921"
             ]
            ],
            "type": "histogram2d"
           }
          ],
          "histogram2dcontour": [
           {
            "colorbar": {
             "outlinewidth": 0,
             "ticks": ""
            },
            "colorscale": [
             [
              0,
              "#0d0887"
             ],
             [
              0.1111111111111111,
              "#46039f"
             ],
             [
              0.2222222222222222,
              "#7201a8"
             ],
             [
              0.3333333333333333,
              "#9c179e"
             ],
             [
              0.4444444444444444,
              "#bd3786"
             ],
             [
              0.5555555555555556,
              "#d8576b"
             ],
             [
              0.6666666666666666,
              "#ed7953"
             ],
             [
              0.7777777777777778,
              "#fb9f3a"
             ],
             [
              0.8888888888888888,
              "#fdca26"
             ],
             [
              1,
              "#f0f921"
             ]
            ],
            "type": "histogram2dcontour"
           }
          ],
          "mesh3d": [
           {
            "colorbar": {
             "outlinewidth": 0,
             "ticks": ""
            },
            "type": "mesh3d"
           }
          ],
          "parcoords": [
           {
            "line": {
             "colorbar": {
              "outlinewidth": 0,
              "ticks": ""
             }
            },
            "type": "parcoords"
           }
          ],
          "pie": [
           {
            "automargin": true,
            "type": "pie"
           }
          ],
          "scatter": [
           {
            "marker": {
             "colorbar": {
              "outlinewidth": 0,
              "ticks": ""
             }
            },
            "type": "scatter"
           }
          ],
          "scatter3d": [
           {
            "line": {
             "colorbar": {
              "outlinewidth": 0,
              "ticks": ""
             }
            },
            "marker": {
             "colorbar": {
              "outlinewidth": 0,
              "ticks": ""
             }
            },
            "type": "scatter3d"
           }
          ],
          "scattercarpet": [
           {
            "marker": {
             "colorbar": {
              "outlinewidth": 0,
              "ticks": ""
             }
            },
            "type": "scattercarpet"
           }
          ],
          "scattergeo": [
           {
            "marker": {
             "colorbar": {
              "outlinewidth": 0,
              "ticks": ""
             }
            },
            "type": "scattergeo"
           }
          ],
          "scattergl": [
           {
            "marker": {
             "colorbar": {
              "outlinewidth": 0,
              "ticks": ""
             }
            },
            "type": "scattergl"
           }
          ],
          "scattermapbox": [
           {
            "marker": {
             "colorbar": {
              "outlinewidth": 0,
              "ticks": ""
             }
            },
            "type": "scattermapbox"
           }
          ],
          "scatterpolar": [
           {
            "marker": {
             "colorbar": {
              "outlinewidth": 0,
              "ticks": ""
             }
            },
            "type": "scatterpolar"
           }
          ],
          "scatterpolargl": [
           {
            "marker": {
             "colorbar": {
              "outlinewidth": 0,
              "ticks": ""
             }
            },
            "type": "scatterpolargl"
           }
          ],
          "scatterternary": [
           {
            "marker": {
             "colorbar": {
              "outlinewidth": 0,
              "ticks": ""
             }
            },
            "type": "scatterternary"
           }
          ],
          "surface": [
           {
            "colorbar": {
             "outlinewidth": 0,
             "ticks": ""
            },
            "colorscale": [
             [
              0,
              "#0d0887"
             ],
             [
              0.1111111111111111,
              "#46039f"
             ],
             [
              0.2222222222222222,
              "#7201a8"
             ],
             [
              0.3333333333333333,
              "#9c179e"
             ],
             [
              0.4444444444444444,
              "#bd3786"
             ],
             [
              0.5555555555555556,
              "#d8576b"
             ],
             [
              0.6666666666666666,
              "#ed7953"
             ],
             [
              0.7777777777777778,
              "#fb9f3a"
             ],
             [
              0.8888888888888888,
              "#fdca26"
             ],
             [
              1,
              "#f0f921"
             ]
            ],
            "type": "surface"
           }
          ],
          "table": [
           {
            "cells": {
             "fill": {
              "color": "#EBF0F8"
             },
             "line": {
              "color": "white"
             }
            },
            "header": {
             "fill": {
              "color": "#C8D4E3"
             },
             "line": {
              "color": "white"
             }
            },
            "type": "table"
           }
          ]
         },
         "layout": {
          "annotationdefaults": {
           "arrowcolor": "#2a3f5f",
           "arrowhead": 0,
           "arrowwidth": 1
          },
          "coloraxis": {
           "colorbar": {
            "outlinewidth": 0,
            "ticks": ""
           }
          },
          "colorscale": {
           "diverging": [
            [
             0,
             "#8e0152"
            ],
            [
             0.1,
             "#c51b7d"
            ],
            [
             0.2,
             "#de77ae"
            ],
            [
             0.3,
             "#f1b6da"
            ],
            [
             0.4,
             "#fde0ef"
            ],
            [
             0.5,
             "#f7f7f7"
            ],
            [
             0.6,
             "#e6f5d0"
            ],
            [
             0.7,
             "#b8e186"
            ],
            [
             0.8,
             "#7fbc41"
            ],
            [
             0.9,
             "#4d9221"
            ],
            [
             1,
             "#276419"
            ]
           ],
           "sequential": [
            [
             0,
             "#0d0887"
            ],
            [
             0.1111111111111111,
             "#46039f"
            ],
            [
             0.2222222222222222,
             "#7201a8"
            ],
            [
             0.3333333333333333,
             "#9c179e"
            ],
            [
             0.4444444444444444,
             "#bd3786"
            ],
            [
             0.5555555555555556,
             "#d8576b"
            ],
            [
             0.6666666666666666,
             "#ed7953"
            ],
            [
             0.7777777777777778,
             "#fb9f3a"
            ],
            [
             0.8888888888888888,
             "#fdca26"
            ],
            [
             1,
             "#f0f921"
            ]
           ],
           "sequentialminus": [
            [
             0,
             "#0d0887"
            ],
            [
             0.1111111111111111,
             "#46039f"
            ],
            [
             0.2222222222222222,
             "#7201a8"
            ],
            [
             0.3333333333333333,
             "#9c179e"
            ],
            [
             0.4444444444444444,
             "#bd3786"
            ],
            [
             0.5555555555555556,
             "#d8576b"
            ],
            [
             0.6666666666666666,
             "#ed7953"
            ],
            [
             0.7777777777777778,
             "#fb9f3a"
            ],
            [
             0.8888888888888888,
             "#fdca26"
            ],
            [
             1,
             "#f0f921"
            ]
           ]
          },
          "colorway": [
           "#636efa",
           "#EF553B",
           "#00cc96",
           "#ab63fa",
           "#FFA15A",
           "#19d3f3",
           "#FF6692",
           "#B6E880",
           "#FF97FF",
           "#FECB52"
          ],
          "font": {
           "color": "#2a3f5f"
          },
          "geo": {
           "bgcolor": "white",
           "lakecolor": "white",
           "landcolor": "#E5ECF6",
           "showlakes": true,
           "showland": true,
           "subunitcolor": "white"
          },
          "hoverlabel": {
           "align": "left"
          },
          "hovermode": "closest",
          "mapbox": {
           "style": "light"
          },
          "paper_bgcolor": "white",
          "plot_bgcolor": "#E5ECF6",
          "polar": {
           "angularaxis": {
            "gridcolor": "white",
            "linecolor": "white",
            "ticks": ""
           },
           "bgcolor": "#E5ECF6",
           "radialaxis": {
            "gridcolor": "white",
            "linecolor": "white",
            "ticks": ""
           }
          },
          "scene": {
           "xaxis": {
            "backgroundcolor": "#E5ECF6",
            "gridcolor": "white",
            "gridwidth": 2,
            "linecolor": "white",
            "showbackground": true,
            "ticks": "",
            "zerolinecolor": "white"
           },
           "yaxis": {
            "backgroundcolor": "#E5ECF6",
            "gridcolor": "white",
            "gridwidth": 2,
            "linecolor": "white",
            "showbackground": true,
            "ticks": "",
            "zerolinecolor": "white"
           },
           "zaxis": {
            "backgroundcolor": "#E5ECF6",
            "gridcolor": "white",
            "gridwidth": 2,
            "linecolor": "white",
            "showbackground": true,
            "ticks": "",
            "zerolinecolor": "white"
           }
          },
          "shapedefaults": {
           "line": {
            "color": "#2a3f5f"
           }
          },
          "ternary": {
           "aaxis": {
            "gridcolor": "white",
            "linecolor": "white",
            "ticks": ""
           },
           "baxis": {
            "gridcolor": "white",
            "linecolor": "white",
            "ticks": ""
           },
           "bgcolor": "#E5ECF6",
           "caxis": {
            "gridcolor": "white",
            "linecolor": "white",
            "ticks": ""
           }
          },
          "title": {
           "x": 0.05
          },
          "xaxis": {
           "automargin": true,
           "gridcolor": "white",
           "linecolor": "white",
           "ticks": "",
           "title": {
            "standoff": 15
           },
           "zerolinecolor": "white",
           "zerolinewidth": 2
          },
          "yaxis": {
           "automargin": true,
           "gridcolor": "white",
           "linecolor": "white",
           "ticks": "",
           "title": {
            "standoff": 15
           },
           "zerolinecolor": "white",
           "zerolinewidth": 2
          }
         }
        },
        "xaxis": {
         "anchor": "y",
         "domain": [
          0,
          1
         ],
         "title": {
          "text": "pc1"
         }
        },
        "yaxis": {
         "anchor": "x",
         "domain": [
          0,
          1
         ],
         "title": {
          "text": "pc2"
         }
        }
       }
      },
      "text/html": [
       "<div>\n",
       "        \n",
       "        \n",
       "            <div id=\"ebb5d883-9431-48ac-ba2f-f7263034a0b1\" class=\"plotly-graph-div\" style=\"height:525px; width:100%;\"></div>\n",
       "            <script type=\"text/javascript\">\n",
       "                require([\"plotly\"], function(Plotly) {\n",
       "                    window.PLOTLYENV=window.PLOTLYENV || {};\n",
       "                    \n",
       "                if (document.getElementById(\"ebb5d883-9431-48ac-ba2f-f7263034a0b1\")) {\n",
       "                    Plotly.newPlot(\n",
       "                        'ebb5d883-9431-48ac-ba2f-f7263034a0b1',\n",
       "                        [{\"customdata\": [[\"http://dbpedia.org/ontology/starring\"], [\"http://www.wikidata.org/entity/P161\"], [\"http://dbpedia.org/ontology/producer\"], [\"http://www.wikidata.org/entity/P31\"], [\"http://dbpedia.org/ontology/writer\"], [\"http://www.wikidata.org/entity/P57\"], [\"http://dbpedia.org/ontology/birthPlace\"], [\"http://www.wikidata.org/entity/P86\"], [\"http://dbpedia.org/ontology/director\"], [\"http://www.wikidata.org/entity/P54\"], [\"http://dbpedia.org/ontology/musicComposer\"], [\"http://www.wikidata.org/entity/P162\"], [\"http://dbpedia.org/ontology/recordLabel\"], [\"http://www.wikidata.org/entity/P175\"], [\"http://dbpedia.org/ontology/cinematography\"], [\"http://www.wikidata.org/entity/P106\"], [\"http://dbpedia.org/ontology/distributor\"], [\"http://www.wikidata.org/entity/P58\"], [\"http://dbpedia.org/ontology/formerTeam\"], [\"http://www.wikidata.org/entity/P344\"], [\"http://dbpedia.org/ontology/musicalBand\"], [\"http://www.wikidata.org/entity/P264\"], [\"http://dbpedia.org/ontology/musicalArtist\"], [\"http://www.wikidata.org/entity/P19\"], [\"http://dbpedia.org/ontology/genre\"], [\"http://www.wikidata.org/entity/P495\"], [\"http://dbpedia.org/ontology/subsequentWork\"], [\"http://www.wikidata.org/entity/P27\"], [\"http://dbpedia.org/ontology/previousWork\"], [\"http://www.wikidata.org/entity/P136\"], [\"http://dbpedia.org/ontology/deathPlace\"], [\"http://www.wikidata.org/entity/P155\"], [\"http://dbpedia.org/ontology/country\"], [\"http://www.wikidata.org/entity/P156\"], [\"http://dbpedia.org/ontology/editing\"], [\"http://www.wikidata.org/entity/P17\"], [\"http://dbpedia.org/ontology/associatedMusicalArtist\"], [\"http://www.wikidata.org/entity/P69\"], [\"http://dbpedia.org/ontology/associatedBand\"], [\"http://www.wikidata.org/entity/P190\"], [\"http://dbpedia.org/ontology/almaMater\"], [\"http://www.wikidata.org/entity/P20\"], [\"http://dbpedia.org/ontology/artist\"], [\"http://www.wikidata.org/entity/P364\"], [\"http://dbpedia.org/ontology/occupation\"], [\"http://www.wikidata.org/entity/P750\"], [\"http://dbpedia.org/ontology/series\"], [\"http://www.wikidata.org/entity/P272\"], [\"http://dbpedia.org/ontology/publisher\"], [\"http://www.wikidata.org/entity/P1040\"], [\"http://www.w3.org/2000/01/rdf-schema#seeAlso\"], [\"http://www.wikidata.org/entity/P179\"], [\"http://dbpedia.org/ontology/language\"], [\"http://www.wikidata.org/entity/P840\"], [\"http://dbpedia.org/ontology/instrument\"], [\"http://www.wikidata.org/entity/P131\"], [\"http://dbpedia.org/ontology/isPartOf\"], [\"http://www.wikidata.org/entity/P123\"], [\"http://dbpedia.org/ontology/format\"], [\"http://www.wikidata.org/entity/P915\"], [\"http://dbpedia.org/ontology/draftTeam\"], [\"http://www.wikidata.org/entity/P166\"], [\"http://dbpedia.org/ontology/team\"], [\"http://www.wikidata.org/entity/P647\"], [\"http://dbpedia.org/ontology/award\"], [\"http://www.wikidata.org/entity/P449\"], [\"http://dbpedia.org/ontology/recordedIn\"], [\"http://www.wikidata.org/entity/P1303\"], [\"http://dbpedia.org/ontology/computingPlatform\"], [\"http://www.wikidata.org/entity/P676\"], [\"http://dbpedia.org/ontology/position\"], [\"http://www.wikidata.org/entity/P607\"], [\"http://dbpedia.org/ontology/location\"], [\"http://www.wikidata.org/entity/P1412\"], [\"http://dbpedia.org/ontology/type\"], [\"http://www.wikidata.org/entity/P102\"], [\"http://dbpedia.org/ontology/battle\"], [\"http://www.wikidata.org/entity/P400\"], [\"http://dbpedia.org/ontology/network\"], [\"http://www.wikidata.org/entity/P413\"], [\"http://dbpedia.org/ontology/hometown\"], [\"http://www.wikidata.org/entity/P108\"], [\"http://dbpedia.org/ontology/residence\"], [\"http://www.wikidata.org/entity/P937\"], [\"http://dbpedia.org/ontology/guest\"], [\"http://www.wikidata.org/entity/P178\"], [\"http://dbpedia.org/ontology/party\"], [\"http://www.wikidata.org/entity/P509\"], [\"http://dbpedia.org/ontology/developer\"], [\"http://www.wikidata.org/entity/P172\"], [\"http://dbpedia.org/ontology/nationality\"], [\"http://www.wikidata.org/entity/P921\"], [\"http://dbpedia.org/ontology/author\"], [\"http://www.wikidata.org/entity/P47\"], [\"http://dbpedia.org/ontology/literaryGenre\"], [\"http://www.wikidata.org/entity/P159\"], [\"http://dbpedia.org/ontology/timeZone\"], [\"http://www.wikidata.org/entity/P50\"], [\"http://dbpedia.org/ontology/composer\"], [\"http://www.wikidata.org/entity/P437\"], [\"http://dbpedia.org/ontology/spouse\"], [\"http://www.wikidata.org/entity/P170\"], [\"http://dbpedia.org/ontology/album\"], [\"http://www.wikidata.org/entity/P150\"], [\"http://dbpedia.org/ontology/creator\"], [\"http://www.wikidata.org/entity/P737\"], [\"http://dbpedia.org/ontology/influencedBy\"], [\"http://www.wikidata.org/entity/P1431\"], [\"http://dbpedia.org/ontology/narrator\"], [\"http://www.wikidata.org/entity/P463\"], [\"http://dbpedia.org/ontology/restingPlace\"], [\"http://www.wikidata.org/entity/P119\"], [\"http://dbpedia.org/ontology/city\"], [\"http://www.wikidata.org/entity/P36\"], [\"http://dbpedia.org/ontology/executiveProducer\"], [\"http://www.wikidata.org/entity/P1376\"], [\"http://dbpedia.org/ontology/industry\"], [\"http://www.wikidata.org/entity/P452\"], [\"http://dbpedia.org/ontology/channel\"], [\"http://www.wikidata.org/entity/P30\"], [\"http://dbpedia.org/ontology/education\"], [\"http://www.wikidata.org/entity/P361\"], [\"http://dbpedia.org/ontology/religion\"], [\"http://www.wikidata.org/entity/P171\"], [\"http://dbpedia.org/ontology/owner\"], [\"http://www.wikidata.org/entity/P241\"], [\"http://dbpedia.org/ontology/headquarter\"], [\"http://www.wikidata.org/entity/P140\"], [\"http://dbpedia.org/ontology/company\"], [\"http://www.wikidata.org/entity/P7\"], [\"http://dbpedia.org/ontology/parentCompany\"], [\"http://www.wikidata.org/entity/P551\"], [\"http://dbpedia.org/ontology/locationCity\"], [\"http://www.wikidata.org/entity/P137\"], [\"http://dbpedia.org/ontology/league\"], [\"http://www.wikidata.org/entity/P40\"], [\"http://dbpedia.org/ontology/voice\"], [\"http://www.wikidata.org/entity/P135\"], [\"http://dbpedia.org/ontology/successor\"], [\"http://www.wikidata.org/entity/P26\"], [\"http://dbpedia.org/ontology/deathCause\"], [\"http://www.wikidata.org/entity/P22\"], [\"http://dbpedia.org/ontology/stateOfOrigin\"], [\"http://www.wikidata.org/entity/P740\"], [\"http://dbpedia.org/ontology/ideology\"], [\"http://www.wikidata.org/entity/P279\"], [\"http://dbpedia.org/ontology/leaderParty\"], [\"http://www.wikidata.org/entity/P1142\"], [\"http://www.w3.org/2002/07/owl#differentFrom\"], [\"http://www.wikidata.org/entity/P37\"], [\"http://dbpedia.org/ontology/state\"], [\"http://www.wikidata.org/entity/P127\"], [\"http://dbpedia.org/ontology/predecessor\"], [\"http://www.wikidata.org/entity/P527\"], [\"http://dbpedia.org/ontology/capital\"], [\"http://www.wikidata.org/entity/P421\"], [\"http://dbpedia.org/ontology/parent\"], [\"http://www.wikidata.org/entity/P118\"], [\"http://dbpedia.org/ontology/basedOn\"], [\"http://www.wikidata.org/entity/P408\"], [\"http://dbpedia.org/ontology/movement\"], [\"http://www.wikidata.org/entity/P176\"], [\"http://dbpedia.org/ontology/related\"], [\"http://www.wikidata.org/entity/P275\"], [\"http://dbpedia.org/ontology/license\"], [\"http://www.wikidata.org/entity/P112\"], [\"http://dbpedia.org/ontology/genus\"], [\"http://www.wikidata.org/entity/P412\"], [\"http://dbpedia.org/ontology/relative\"], [\"http://www.wikidata.org/entity/P1344\"], [\"http://dbpedia.org/ontology/gameEngine\"], [\"http://www.wikidata.org/entity/P674\"], [\"http://dbpedia.org/ontology/region\"], [\"http://www.wikidata.org/entity/P800\"], [\"http://dbpedia.org/ontology/ground\"], [\"http://www.wikidata.org/entity/P530\"], [\"http://dbpedia.org/ontology/foundedBy\"], [\"http://www.wikidata.org/entity/P144\"], [\"http://dbpedia.org/ontology/class\"], [\"http://www.wikidata.org/entity/P138\"], [\"http://dbpedia.org/ontology/affiliation\"], [\"http://www.wikidata.org/entity/P101\"], [\"http://dbpedia.org/ontology/profession\"], [\"http://www.wikidata.org/entity/P641\"], [\"http://dbpedia.org/ontology/owningOrganisation\"], [\"http://www.wikidata.org/entity/P2438\"], [\"http://dbpedia.org/ontology/locationCountry\"], [\"http://www.wikidata.org/entity/P355\"], [\"http://dbpedia.org/ontology/influenced\"], [\"http://www.wikidata.org/entity/P749\"], [\"http://dbpedia.org/ontology/formerBandMember\"], [\"http://www.wikidata.org/entity/P197\"], [\"http://dbpedia.org/ontology/spokenIn\"], [\"http://www.wikidata.org/entity/P767\"], [\"http://dbpedia.org/ontology/product\"], [\"http://www.wikidata.org/entity/P451\"], [\"http://dbpedia.org/ontology/operator\"], [\"http://www.wikidata.org/entity/P206\"], [\"http://dbpedia.org/ontology/militaryBranch\"], [\"http://www.wikidata.org/entity/P184\"], [\"http://dbpedia.org/ontology/distributingLabel\"], [\"http://www.wikidata.org/entity/P103\"], [\"http://dbpedia.org/ontology/distributingCompany\"], [\"http://www.wikidata.org/entity/P706\"], [\"http://dbpedia.org/ontology/bandMember\"], [\"http://www.wikidata.org/entity/P276\"], [\"http://dbpedia.org/ontology/knownFor\"], [\"http://www.wikidata.org/entity/P1441\"], [\"http://dbpedia.org/ontology/foundationPlace\"], [\"http://www.wikidata.org/entity/P126\"], [\"http://dbpedia.org/ontology/populationPlace\"], [\"http://www.wikidata.org/entity/P9\"], [\"http://dbpedia.org/ontology/family\"], [\"http://www.wikidata.org/entity/P287\"], [\"http://dbpedia.org/ontology/child\"], [\"http://www.wikidata.org/entity/P2554\"], [\"http://dbpedia.org/ontology/ethnicity\"], [\"http://www.wikidata.org/entity/P25\"], [\"http://dbpedia.org/ontology/officialLanguage\"], [\"http://www.wikidata.org/entity/P149\"], [\"http://dbpedia.org/ontology/place\"], [\"http://www.wikidata.org/entity/P407\"], [\"http://dbpedia.org/ontology/builder\"], [\"http://www.wikidata.org/entity/P1383\"], [\"http://dbpedia.org/ontology/regionServed\"], [\"http://www.wikidata.org/entity/P84\"], [\"http://dbpedia.org/ontology/manufacturer\"], [\"http://www.wikidata.org/entity/P611\"], [\"http://dbpedia.org/ontology/locatedInArea\"], [\"http://www.wikidata.org/entity/P466\"], [\"http://dbpedia.org/ontology/field\"], [\"http://www.wikidata.org/entity/P462\"], [\"http://dbpedia.org/ontology/employer\"], [\"http://www.wikidata.org/entity/P403\"], [\"http://dbpedia.org/ontology/assembly\"], [\"http://www.wikidata.org/entity/P2512\"], [\"http://dbpedia.org/ontology/portrayer\"], [\"http://www.wikidata.org/entity/P87\"], [\"http://dbpedia.org/ontology/owningCompany\"], [\"http://www.wikidata.org/entity/P710\"], [\"http://dbpedia.org/ontology/colour\"], [\"http://www.wikidata.org/entity/P2936\"], [\"http://dbpedia.org/ontology/largestCity\"], [\"http://www.wikidata.org/entity/P277\"], [\"http://dbpedia.org/ontology/training\"], [\"http://www.wikidata.org/entity/P1408\"], [\"http://dbpedia.org/ontology/president\"], [\"http://www.wikidata.org/entity/P1366\"], [\"http://dbpedia.org/ontology/partner\"], [\"http://www.wikidata.org/entity/P1365\"], [\"http://dbpedia.org/ontology/operatedBy\"], [\"http://www.wikidata.org/entity/P945\"], [\"http://dbpedia.org/ontology/notableWork\"], [\"http://www.wikidata.org/entity/P941\"], [\"http://dbpedia.org/ontology/keyPerson\"], [\"http://www.wikidata.org/entity/P658\"], [\"http://dbpedia.org/ontology/garrison\"], [\"http://www.wikidata.org/entity/P306\"], [\"http://dbpedia.org/ontology/doctoralAdvisor\"], [\"http://www.wikidata.org/entity/P2541\"], [\"http://dbpedia.org/ontology/primeMinister\"], [\"http://www.wikidata.org/entity/P1716\"], [\"http://dbpedia.org/ontology/mountainRange\"], [\"http://www.wikidata.org/entity/P1532\"], [\"http://dbpedia.org/ontology/debutTeam\"], [\"http://www.wikidata.org/entity/P1071\"], [\"http://dbpedia.org/ontology/stylisticOrigin\"], [\"http://www.wikidata.org/entity/P991\"], [\"http://dbpedia.org/ontology/citizenship\"], [\"http://www.wikidata.org/entity/P81\"], [\"http://dbpedia.org/ontology/broadcastArea\"], [\"http://www.wikidata.org/entity/P61\"], [\"http://dbpedia.org/ontology/architecturalStyle\"], [\"http://www.wikidata.org/entity/P504\"], [\"http://dbpedia.org/ontology/twinTown\"], [\"http://www.wikidata.org/entity/P469\"], [\"http://dbpedia.org/ontology/subsidiary\"], [\"http://www.wikidata.org/entity/P461\"], [\"http://dbpedia.org/ontology/picture\"], [\"http://www.wikidata.org/entity/P425\"], [\"http://dbpedia.org/ontology/person\"], [\"http://www.wikidata.org/entity/P2348\"], [\"http://dbpedia.org/ontology/musicBy\"], [\"http://www.wikidata.org/entity/P205\"], [\"http://dbpedia.org/ontology/managerClub\"], [\"http://www.wikidata.org/entity/P195\"], [\"http://dbpedia.org/ontology/leaderName\"], [\"http://www.wikidata.org/entity/P1387\"], [\"http://dbpedia.org/ontology/isPartOfMilitaryConflict\"], [\"http://www.wikidata.org/entity/P802\"], [\"http://dbpedia.org/ontology/councilArea\"], [\"http://www.wikidata.org/entity/P735\"], [\"http://dbpedia.org/ontology/tenant\"], [\"http://www.wikidata.org/entity/P726\"], [\"http://dbpedia.org/ontology/part\"], [\"http://www.wikidata.org/entity/P725\"], [\"http://dbpedia.org/ontology/lyrics\"], [\"http://www.wikidata.org/entity/P501\"], [\"http://dbpedia.org/ontology/ethnicGroup\"], [\"http://www.wikidata.org/entity/P488\"], [\"http://dbpedia.org/ontology/designer\"], [\"http://www.wikidata.org/entity/P485\"], [\"http://dbpedia.org/ontology/countySeat\"], [\"http://www.wikidata.org/entity/P410\"], [\"http://dbpedia.org/ontology/territory\"], [\"http://www.wikidata.org/entity/P406\"], [\"http://dbpedia.org/ontology/riverMouth\"], [\"http://www.wikidata.org/entity/P289\"], [\"http://dbpedia.org/ontology/programmingLanguage\"], [\"http://www.wikidata.org/entity/P286\"], [\"http://dbpedia.org/ontology/operatingSystem\"], [\"http://www.wikidata.org/entity/P263\"], [\"http://dbpedia.org/ontology/monarch\"], [\"http://www.wikidata.org/entity/P201\"], [\"http://dbpedia.org/ontology/lieutenancyArea\"], [\"http://www.wikidata.org/entity/P200\"], [\"http://dbpedia.org/ontology/doctoralStudent\"], [\"http://www.wikidata.org/entity/P1889\"], [\"http://dbpedia.org/ontology/district\"], [\"http://www.wikidata.org/entity/P185\"], [\"http://dbpedia.org/ontology/commander\"], [\"http://www.wikidata.org/entity/P1811\"], [\"http://dbpedia.org/ontology/college\"], [\"http://www.wikidata.org/entity/P180\"], [\"http://dbpedia.org/ontology/architect\"], [\"http://www.wikidata.org/entity/P1427\"], [\"http://dbpedia.org/ontology/routeJunction\"], [\"http://www.wikidata.org/entity/P134\"], [\"http://dbpedia.org/ontology/otherParty\"], [\"http://www.wikidata.org/entity/P1336\"], [\"http://dbpedia.org/ontology/openingTheme\"], [\"http://www.wikidata.org/entity/P122\"], [\"http://dbpedia.org/ontology/nonFictionSubject\"], [\"http://www.wikidata.org/entity/P1066\"], [\"http://dbpedia.org/ontology/musicFusionGenre\"], [\"http://www.wikidata.org/entity/P1056\"], [\"http://dbpedia.org/ontology/daylightSavingTimeZone\"], [\"http://www.wikidata.org/entity/P1018\"], [\"http://dbpedia.org/ontology/whaDraftTeam\"], [\"http://dbpedia.org/ontology/university\"], [\"http://dbpedia.org/ontology/twinCountry\"], [\"http://dbpedia.org/ontology/sisterStation\"], [\"http://dbpedia.org/ontology/sisterCollege\"], [\"http://dbpedia.org/ontology/relation\"], [\"http://dbpedia.org/ontology/origin\"], [\"http://dbpedia.org/ontology/order\"], [\"http://dbpedia.org/ontology/nearestCity\"], [\"http://dbpedia.org/ontology/musicSubgenre\"], [\"http://dbpedia.org/ontology/institution\"], [\"http://dbpedia.org/ontology/governmentType\"], [\"http://dbpedia.org/ontology/frazioni\"], [\"http://dbpedia.org/ontology/deputy\"], [\"http://dbpedia.org/ontology/sourceCountry\"], [\"http://dbpedia.org/ontology/servingRailwayLine\"], [\"http://dbpedia.org/ontology/routeStart\"], [\"http://dbpedia.org/ontology/routeEnd\"], [\"http://dbpedia.org/ontology/principalArea\"], [\"http://dbpedia.org/ontology/presenter\"], [\"http://dbpedia.org/ontology/placeOfBurial\"], [\"http://dbpedia.org/ontology/phylum\"], [\"http://dbpedia.org/ontology/philosophicalSchool\"], [\"http://dbpedia.org/ontology/originalLanguage\"], [\"http://dbpedia.org/ontology/museum\"], [\"http://dbpedia.org/ontology/inflow\"], [\"http://dbpedia.org/ontology/firstLeader\"], [\"http://dbpedia.org/ontology/discoverer\"], [\"http://dbpedia.org/ontology/chancellor\"], [\"http://dbpedia.org/ontology/canton\"], [\"http://dbpedia.org/ontology/campus\"], [\"http://dbpedia.org/ontology/academicDiscipline\"], [\"http://dbpedia.org/ontology/splitFromParty\"], [\"http://dbpedia.org/ontology/sourceConfluencePlace\"], [\"http://dbpedia.org/ontology/sourceConfluenceMountain\"], [\"http://dbpedia.org/ontology/significantProject\"], [\"http://dbpedia.org/ontology/significantBuilding\"], [\"http://dbpedia.org/ontology/service\"], [\"http://dbpedia.org/ontology/secondLeader\"], [\"http://dbpedia.org/ontology/saint\"], [\"http://dbpedia.org/ontology/relatedMeanOfTransportation\"], [\"http://dbpedia.org/ontology/regionalLanguage\"], [\"http://dbpedia.org/ontology/previousEvent\"], [\"http://dbpedia.org/ontology/photographer\"], [\"http://dbpedia.org/ontology/parentOrganisation\"], [\"http://dbpedia.org/ontology/outflow\"], [\"http://dbpedia.org/ontology/notableCommander\"], [\"http://dbpedia.org/ontology/mouthCountry\"], [\"http://dbpedia.org/ontology/militaryRank\"], [\"http://dbpedia.org/ontology/mergedIntoParty\"], [\"http://dbpedia.org/ontology/mediaType\"], [\"http://dbpedia.org/ontology/majorShrine\"], [\"http://dbpedia.org/ontology/mainInterest\"], [\"http://dbpedia.org/ontology/lowestPlace\"], [\"http://dbpedia.org/ontology/lowestMountain\"], [\"http://dbpedia.org/ontology/leader\"], [\"http://dbpedia.org/ontology/lastAppearance\"], [\"http://dbpedia.org/ontology/largestSettlement\"], [\"http://dbpedia.org/ontology/languageRegulator\"], [\"http://dbpedia.org/ontology/homeport\"], [\"http://dbpedia.org/ontology/highschool\"], [\"http://dbpedia.org/ontology/governor\"], [\"http://dbpedia.org/ontology/followingEvent\"], [\"http://dbpedia.org/ontology/federalState\"], [\"http://dbpedia.org/ontology/endingTheme\"], [\"http://dbpedia.org/ontology/division\"], [\"http://dbpedia.org/ontology/derivative\"], [\"http://dbpedia.org/ontology/county\"], [\"http://dbpedia.org/ontology/commandStructure\"], [\"http://dbpedia.org/ontology/coachedTeam\"], [\"http://dbpedia.org/ontology/coach\"], [\"http://dbpedia.org/ontology/capitalRegion\"], [\"http://dbpedia.org/ontology/capitalCountry\"], [\"http://dbpedia.org/ontology/border\"], [\"http://dbpedia.org/ontology/board\"], [\"http://dbpedia.org/ontology/beatifiedBy\"], [\"http://dbpedia.org/ontology/archipelago\"], [\"http://dbpedia.org/ontology/anthem\"], [\"http://dbpedia.org/ontology/animator\"]], \"hovertemplate\": \"pc1=%{x}<br>pc2=%{y}<br>name=%{customdata[0]}<extra></extra>\", \"legendgroup\": \"\", \"marker\": {\"color\": \"#636efa\", \"symbol\": \"circle\"}, \"mode\": \"markers\", \"name\": \"\", \"orientation\": \"v\", \"showlegend\": false, \"type\": \"scatter\", \"x\": [-0.5003880262374878, -0.47269654273986816, -0.6192087531089783, -0.26679134368896484, -0.6429349780082703, -0.6078890562057495, 0.7316782474517822, -0.5026009678840637, -0.6696597933769226, 0.10814783722162247, -0.42282527685165405, -0.6013649702072144, -0.05589819326996803, -0.36920270323753357, -0.3930230438709259, 0.30640020966529846, -0.2830794155597687, -0.6106218695640564, 0.11457662284374237, -0.3926497995853424, -0.4503682255744934, -0.09452509880065918, -0.44919899106025696, 0.6630924940109253, -0.023551760241389275, 0.018113739788532257, -0.060452159494161606, 0.5382357239723206, 0.022237343713641167, -0.08118844777345657, 0.6807313561439514, 0.03844210505485535, 0.3163030743598938, -0.07101189345121384, -0.5030551552772522, 0.15681543946266174, -0.08153427392244339, 0.20278912782669067, -0.08260554075241089, 0.01048785075545311, 0.18926160037517548, 0.6399555802345276, -0.42510563135147095, -0.15581148862838745, 0.33905431628227234, -0.25591012835502625, 0.018661728128790855, -0.3034251928329468, -0.23797686398029327, -0.5384899377822876, 0.20054849982261658, 0.03241320326924324, -0.16892842948436737, 0.025395581498742104, 0.22482286393642426, 0.3118899166584015, 0.11001215130090714, -0.24801644682884216, -0.018269117921590805, 0.08297763764858246, 0.10371595621109009, 0.10995186120271683, 0.12866978347301483, 0.10471895337104797, 0.16239939630031586, -0.3225245773792267, 0.17608749866485596, 0.2018304020166397, 0.0477093830704689, -0.46384522318840027, 0.04102146998047829, 0.23233149945735931, 0.4266817569732666, 0.34741905331611633, -0.07045283913612366, 0.05560794845223427, 0.19987155497074127, 0.053249578922986984, -0.29877495765686035, 0.11368318647146225, 0.6096522808074951, 0.16983312368392944, 0.6941185593605042, 0.5279975533485413, -0.24188818037509918, -0.2490474283695221, 0.13378146290779114, 0.31815090775489807, -0.24787279963493347, 0.2931261360645294, 0.6210829019546509, -0.08917661011219025, -0.5102930665016174, -0.045200396329164505, -0.15580642223358154, 0.3113955855369568, -0.2710288465023041, -0.3537004888057709, -0.48417848348617554, -0.011397951282560825, -0.06761322170495987, -0.5376926064491272, -0.11367177218198776, -0.17862333357334137, -0.5433810353279114, -0.14897766709327698, -0.02645658142864704, -0.6183041334152222, -0.613924503326416, 0.1202816367149353, 0.6228618025779724, 0.2746063768863678, 0.39062967896461487, -0.10084546357393265, -0.5746614933013916, 0.06470505893230438, 0.1363571733236313, 0.076191246509552, -0.34453636407852173, -0.21647146344184875, 0.20949606597423553, -0.0003008935309480876, 0.18553102016448975, 0.02483280561864376, 0.06542067974805832, 0.18162313103675842, 0.3934651017189026, 0.26169922947883606, -0.3444540500640869, -0.11828034371137619, 0.000928729132283479, 0.5865138173103333, 0.39586198329925537, 0.16459257900714874, -0.029064379632472992, -0.09102342277765274, -0.38476288318634033, 0.14384491741657257, 0.020193951204419136, 0.038371458649635315, 0.332031786441803, 0.06533727794885635, 0.6501457095146179, 0.30762362480163574, 0.09817442297935486, -0.04859768599271774, -0.2741002142429352, 0.04810051620006561, 0.10202962160110474, -0.263837993144989, 0.3401862382888794, 0.20178638398647308, -0.05293648689985275, -0.11862441152334213, -0.19602859020233154, -0.35758858919143677, 0.039565298706293106, -0.039961885660886765, -0.46718674898147583, -0.024408629164099693, 0.17246286571025848, -0.05343451350927353, -0.0420614629983902, -0.15191097557544708, -0.1539793461561203, -0.3157743811607361, -0.06165982782840729, 0.13900095224380493, 0.055914659053087234, 0.07409165799617767, -0.028774123638868332, 0.011275352910161018, 0.455738365650177, 0.4851142168045044, 0.3443978428840637, 0.045972391963005066, -0.31020888686180115, 0.1024525836110115, -0.028853869065642357, -0.35176849365234375, -0.014932600781321526, 0.11413389444351196, 0.23190787434577942, 0.10758274793624878, 0.05048495903611183, -0.4335716664791107, 0.4987580180168152, -0.1391996294260025, 0.01845182478427887, 0.09393393993377686, -0.18076346814632416, -0.09402385354042053, 0.3733566105365753, -0.03457949310541153, 0.1922495812177658, 0.013287721201777458, 0.14305657148361206, -0.061978720128536224, 0.06829333305358887, -0.06268371641635895, -0.05015861988067627, 0.3232101798057556, -0.05045459792017937, 0.1684701144695282, -0.1279328465461731, 0.14104707539081573, 0.5276291966438293, 0.08866699039936066, 0.4624441862106323, 0.026431335136294365, 0.35225561261177063, 0.07745002955198288, -0.0710044652223587, -0.4220955967903137, -0.08117327094078064, -0.49030935764312744, 0.32628464698791504, 0.01550749409943819, -0.25888463854789734, -0.08834028244018555, 0.2585251033306122, 0.016873231157660484, 0.08176331222057343, -0.33861634135246277, 0.4148162305355072, -0.15763862431049347, -0.1783980280160904, 0.15004833042621613, 0.1817493885755539, 0.14739102125167847, 0.17496760189533234, -0.022088758647441864, 0.20610857009887695, 0.12745195627212524, 0.18321189284324646, -0.09374018758535385, -0.221086323261261, -0.40888476371765137, 0.02347959764301777, 0.0532245971262455, 0.02920985408127308, -0.1627640724182129, -0.2023986428976059, -0.15806815028190613, 0.11549714207649231, 0.16205044090747833, -0.07360873371362686, -0.14317235350608826, -0.0008218983421102166, 0.1025189533829689, 0.02057644911110401, 0.22095206379890442, 0.42387813329696655, -0.09408614039421082, -0.3239399492740631, -0.041092902421951294, 0.4285224378108978, 0.0980314165353775, -0.059674814343452454, 0.25443851947784424, -0.004255983978509903, -0.03712153062224388, 0.03061639703810215, 0.18787045776844025, 0.13845275342464447, 0.2172718197107315, 0.0006216908222995698, -0.3320469558238983, 0.5761566162109375, -0.08189980685710907, 0.5349557399749756, -0.10245464742183685, -0.025196973234415054, 0.1908750981092453, -0.06354973465204239, -0.03592921793460846, 0.01146314013749361, -0.0973590835928917, -0.37176746129989624, 0.07962261140346527, -0.30841413140296936, 0.21320423483848572, -0.4219307005405426, 0.035805217921733856, 0.08658058941364288, 0.018336111679673195, -0.07377993315458298, 0.03128286823630333, -0.09287551790475845, 0.024631092324852943, -0.11431770026683807, -0.04706869646906853, 0.0674431324005127, -0.36737534403800964, -0.015668848529458046, -0.14768493175506592, -0.48806288838386536, -0.05176221951842308, -0.2281021773815155, -0.1553460657596588, -0.2998231053352356, 0.1517481803894043, -0.13430817425251007, 0.15759676694869995, 0.24791163206100464, -0.10442672669887543, 0.1493844985961914, -0.02603876404464245, 0.013800961896777153, -0.17235876619815826, 0.05801996961236, 0.1321502923965454, 0.09767484664916992, 0.04426294192671776, -0.09638148546218872, -0.010675977915525436, 0.04828949645161629, -0.01895703189074993, 0.1998303234577179, 0.08896493911743164, -0.15749788284301758, -0.06803341209888458, 0.10287176072597504, -0.06627316027879715, 0.06738971173763275, 0.049649231135845184, 0.308978408575058, 0.008097128942608833, 0.15854085981845856, 0.20350056886672974, -0.2770377993583679, -0.08384086936712265, -0.10661984980106354, -0.03963806480169296, -0.045292098075151443, -0.19002455472946167, -0.1278582364320755, 0.02315424010157585, 0.09308595210313797, 0.14156189560890198, 0.03290146589279175, -0.05616678297519684, 0.06778651475906372, 0.06958677619695663, 0.2584293484687805, -0.031853869557380676, 0.20408037304878235, -0.07274199277162552, 0.06172492727637291, -0.10473578423261642, 0.0008556734537705779, -0.13883432745933533, 0.2691761553287506, -0.08707849681377411, 0.13755090534687042, 0.19322191178798676, -0.05011275038123131, -0.49039533734321594, 0.39645931124687195, -0.0144036915153265, 0.08337777107954025, -0.08382844924926758, 0.042465586215257645, -0.11604978889226913, -0.3295510411262512, -0.08746630698442459, 0.0028188438154757023, 0.03192335367202759, 0.27616381645202637, -0.21408425271511078, -0.057552777230739594, 0.2955929636955261, 0.28557807207107544, 0.17585489153862, 0.4831210672855377, -0.03259536251425743, -0.33371803164482117, -0.2205168455839157, -0.06815092265605927, -0.20963497459888458, -0.03659693896770477, 0.0082589415833354, 0.03478631749749184, -0.18135610222816467, -0.09518587589263916, 0.2299295961856842, 0.011465112678706646, -0.05524565279483795, 0.071500264108181, 0.33518120646476746, 0.07340209186077118, 0.24951529502868652, 0.2559736371040344, -0.21089251339435577, 0.11122304946184158, -0.37004005908966064, -0.15573468804359436, 0.18796707689762115, 0.27233847975730896, 0.043635044246912, -0.0059463572688400745, 0.12350237369537354, -0.3207927346229553, -0.04418564960360527, -0.15554507076740265, 0.2614845037460327, 0.01306459866464138, 0.1022997498512268, 0.0019170981831848621, -0.06047501787543297, -0.1631663292646408, 0.004798897076398134, -0.05783187597990036, -0.007641336880624294, 0.24813959002494812, 0.006456839852035046, -0.3723629117012024], \"xaxis\": \"x\", \"y\": [-0.2064228355884552, -0.2436680793762207, -0.3194452226161957, -0.15721048414707184, -0.2837092876434326, -0.27360302209854126, 0.09390589594841003, -0.0620029978454113, -0.27645885944366455, 0.20116707682609558, -0.047269269824028015, -0.3376554250717163, 0.15932878851890564, -0.20833560824394226, -0.1364392340183258, 0.35575762391090393, -0.07334476709365845, -0.25347888469696045, 0.18672610819339752, -0.1602730005979538, -0.21618042886257172, 0.13826905190944672, -0.21609091758728027, 0.1549646407365799, 0.06272409111261368, -0.321236252784729, 0.13405103981494904, -0.0992218405008316, -0.022510001435875893, 0.06632080674171448, 0.08583077043294907, -0.030220501124858856, -0.6025676727294922, 0.14356806874275208, -0.15481877326965332, -0.6232251524925232, 0.18903890252113342, 0.5458837747573853, 0.18970325589179993, -0.06328272819519043, 0.4947082996368408, 0.12881958484649658, -0.2385648787021637, -0.0645872950553894, 0.25939851999282837, -0.08467800915241241, 0.09564507007598877, -0.09321639686822891, 0.25427234172821045, -0.1843843311071396, -0.633465051651001, 0.08634021878242493, 0.07222215086221695, -0.2757481336593628, 0.28110232949256897, -0.6434453129768372, -0.5032215714454651, 0.2065916806459427, -0.19311122596263885, -0.2677890956401825, 0.1889520138502121, 0.20500512421131134, 0.19086158275604248, 0.1995728313922882, 0.1851758360862732, -0.014804905280470848, -0.17427481710910797, 0.2567290961742401, 0.017198218032717705, -0.2195609211921692, 0.0412231981754303, 0.09895367175340652, -0.31847453117370605, 0.19280895590782166, -0.11336085200309753, 0.3263348340988159, 0.06750617176294327, 0.018399493768811226, -0.08258082717657089, 0.08286681771278381, 0.11626724153757095, 0.5110743045806885, 0.06545653194189072, 0.12970395386219025, -0.06510189920663834, 0.21111388504505157, 0.1797483116388321, 0.1831260621547699, 0.2491106390953064, 0.11906864494085312, -0.07404886931180954, -0.03671082481741905, -0.09199021756649017, 0.013914735987782478, 0.16206680238246918, -0.06669355928897858, 0.12452726066112518, -0.12114153802394867, -0.03649425506591797, -0.004692757967859507, 0.14966842532157898, -0.1875305473804474, 0.05902278050780296, 0.7832284569740295, -0.20625810325145721, 0.01063962746411562, 0.15944409370422363, -0.2501104176044464, -0.18669365346431732, 0.09083889424800873, 0.028350848704576492, 0.2790815830230713, -0.31524786353111267, 0.7011798024177551, -0.22037482261657715, -0.5768347978591919, -0.11098763346672058, -0.004414887633174658, 0.051927950233221054, 0.11528009921312332, 0.5379504561424255, 0.0831519365310669, 0.1418181210756302, -0.014817099086940289, -0.22851413488388062, 0.10055914521217346, -0.09120243787765503, 0.08303171396255493, -0.04824317619204521, 0.12428176403045654, 0.020985443145036697, 0.03989338129758835, -0.07280059158802032, -0.27446624636650085, 0.04845740646123886, 0.16390858590602875, 0.0034032189287245274, 0.1417100578546524, 0.033934034407138824, 0.0640874058008194, 0.20178304612636566, -0.06578944623470306, -0.053451117128133774, 0.018041761592030525, -0.1624009758234024, -0.0031318762339651585, -0.11013685911893845, -0.22332435846328735, -0.058330900967121124, 0.29941853880882263, -0.47730687260627747, -0.37442028522491455, 0.06419414281845093, 0.1212550476193428, 0.7677011489868164, 0.24511058628559113, -0.07451070845127106, -0.045463137328624725, -0.29210418462753296, 0.07312630861997604, 0.08852870017290115, 0.061040423810482025, 0.09266971051692963, 0.06917046755552292, 0.10647649317979813, -0.2648110091686249, 0.08049323409795761, 0.33729586005210876, -0.06443393230438232, 0.08717848360538483, 0.07029451429843903, 0.08058614283800125, -0.21737749874591827, 0.28755131363868713, -0.20925840735435486, 0.011034880764782429, -0.23245979845523834, -0.15918655693531036, -0.1158902570605278, 0.3133726119995117, -0.0771443098783493, 0.2809922993183136, 0.2918926477432251, -0.039009395986795425, -0.21228565275669098, -0.22893677651882172, -0.35591769218444824, 0.21274563670158386, 0.02427006885409355, -0.09815835952758789, -0.05549880489706993, -0.07326240837574005, -0.2919197678565979, -0.03543549031019211, -0.08332464098930359, -0.00028512702556326985, -0.2921012341976166, -0.10474245995283127, 0.07712895423173904, 0.16385100781917572, 0.05861813947558403, 0.13272131979465485, 0.056696176528930664, -0.5798039436340332, -0.060370128601789474, -0.20941919088363647, 0.2651303708553314, 0.13238753378391266, -0.19938811659812927, -0.21702899038791656, -0.13682350516319275, -0.010961723513901234, 0.037312161177396774, 0.0922890454530716, 0.21273460984230042, -0.20175522565841675, 0.029904000461101532, 0.0004992808680981398, 0.29693955183029175, -0.21408124268054962, -0.13824781775474548, 0.10130781680345535, 0.04147348925471306, 0.6272832155227661, -0.2366350293159485, -0.07885628938674927, 0.07981616258621216, 0.049863170832395554, -0.20820730924606323, -0.2750866711139679, 0.20510083436965942, -0.1364070177078247, 0.48507899045944214, -0.17513421177864075, -0.03386307135224342, 0.2090015858411789, -0.08661434054374695, -0.15646378695964813, -0.23160207271575928, -0.2143232673406601, 0.001118033193051815, 0.1483749896287918, 0.7383660078048706, 0.039838436990976334, 0.2777836322784424, 0.08459900319576263, 0.128380686044693, 0.23540611565113068, -0.016491562128067017, -0.12408240139484406, -0.3408713638782501, -0.16794800758361816, 0.25092509388923645, 0.11185957491397858, -0.1616905927658081, -0.024221673607826233, -0.23431400954723358, -0.04390087351202965, 0.07524971663951874, -0.305580735206604, 0.09240200370550156, 0.03894480690360069, 0.10546109825372696, -0.48559993505477905, 0.17802435159683228, 0.02682747319340706, -0.04911894351243973, -0.2208026945590973, -0.07492555677890778, 0.0033770992886275053, -0.3373502492904663, 0.01692016050219536, -0.16617536544799805, -0.04083291441202164, 0.03409774228930473, -0.07256223261356354, 0.01026677992194891, -0.09965246915817261, -0.2761960029602051, 0.03442547842860222, -0.15478137135505676, -0.11003687977790833, 0.028857219964265823, -0.015434924513101578, 0.2709735631942749, -0.003967145923525095, -0.34392231702804565, -0.016449399292469025, 0.13671205937862396, 0.04084394872188568, -0.143998920917511, 0.2791576087474823, -0.2269023060798645, -0.26270219683647156, 0.32660946249961853, -0.03122912347316742, -0.06833387166261673, 0.20866326987743378, 0.16120223701000214, -0.12977798283100128, 0.12651307880878448, 0.20425079762935638, 0.6212794184684753, 0.10416782647371292, -0.14494585990905762, -0.005665350705385208, -0.2171310931444168, 0.051002323627471924, 0.023400548845529556, 0.08978547900915146, -0.017598599195480347, 0.1397559940814972, 0.1777353286743164, 0.12547707557678223, -0.164577454328537, 0.21894977986812592, -0.0039247265085577965, 0.053813811391592026, -0.1661241203546524, -0.056109778583049774, 0.047274552285671234, -0.03485411778092384, 0.06772418320178986, -0.036222584545612335, 0.08948725461959839, 0.030560288578271866, -0.3607538938522339, 0.044822532683610916, 0.17274674773216248, -0.253898948431015, -0.0936962217092514, 0.08223174512386322, 0.10206404328346252, 0.07385790348052979, 0.20244333148002625, -0.11187344044446945, -0.10889038443565369, -0.03661324828863144, 0.19422808289527893, 0.3790123760700226, -0.251897931098938, 0.15844900906085968, 0.054372817277908325, -0.11383405327796936, -0.36430707573890686, -0.08794475346803665, -0.12202253192663193, 0.09354446828365326, 0.362741619348526, -0.014901451766490936, -0.029062043875455856, 0.06538388878107071, -0.526549756526947, 0.24792194366455078, -0.3029937446117401, -0.38575252890586853, -0.08513804525136948, -0.17463624477386475, 0.019763238728046417, -0.045021604746580124, 0.19413533806800842, 0.015373565256595612, 0.09554217010736465, 0.2610059082508087, 0.10137379169464111, 0.13369113206863403, 0.32912150025367737, -0.08028174191713333, -0.22390048205852509, 0.28815609216690063, 0.01859337091445923, -0.3930710554122925, -0.4239571988582611, -0.045783333480358124, -0.012234143912792206, -0.028095193207263947, 0.06544061005115509, -0.030905209481716156, 0.10057583451271057, 0.19459202885627747, -0.01288019958883524, 0.10870832949876785, 0.018880469724535942, 0.28587886691093445, 0.14110034704208374, -0.5558201670646667, 0.05999387800693512, -0.000599724124185741, -0.01258170884102583, 0.09742360562086105, 0.16464878618717194, -0.1487787514925003, -0.14883564412593842, 0.10322491079568863, 0.16583599150180817, 0.6304716467857361, 0.159569650888443, -0.03017319366335869, 0.029388180002570152, -0.0554967038333416, 0.11980757117271423, -0.34429407119750977, 0.004621980246156454, 0.0781625509262085, 0.37581416964530945, -0.3689125180244446, -0.05346722528338432, 0.09783431887626648, 0.09691642224788666, 0.05331152305006981, 0.06666234135627747, 0.28371289372444153, 0.2807377874851227, 0.08180811256170273, -0.5026845932006836, 0.15180596709251404, -0.07290831208229065], \"yaxis\": \"y\"}],\n",
       "                        {\"legend\": {\"tracegroupgap\": 0}, \"margin\": {\"t\": 60}, \"template\": {\"data\": {\"bar\": [{\"error_x\": {\"color\": \"#2a3f5f\"}, \"error_y\": {\"color\": \"#2a3f5f\"}, \"marker\": {\"line\": {\"color\": \"#E5ECF6\", \"width\": 0.5}}, \"type\": \"bar\"}], \"barpolar\": [{\"marker\": {\"line\": {\"color\": \"#E5ECF6\", \"width\": 0.5}}, \"type\": \"barpolar\"}], \"carpet\": [{\"aaxis\": {\"endlinecolor\": \"#2a3f5f\", \"gridcolor\": \"white\", \"linecolor\": \"white\", \"minorgridcolor\": \"white\", \"startlinecolor\": \"#2a3f5f\"}, \"baxis\": {\"endlinecolor\": \"#2a3f5f\", \"gridcolor\": \"white\", \"linecolor\": \"white\", \"minorgridcolor\": \"white\", \"startlinecolor\": \"#2a3f5f\"}, \"type\": \"carpet\"}], \"choropleth\": [{\"colorbar\": {\"outlinewidth\": 0, \"ticks\": \"\"}, \"type\": \"choropleth\"}], \"contour\": [{\"colorbar\": {\"outlinewidth\": 0, \"ticks\": \"\"}, \"colorscale\": [[0.0, \"#0d0887\"], [0.1111111111111111, \"#46039f\"], [0.2222222222222222, \"#7201a8\"], [0.3333333333333333, \"#9c179e\"], [0.4444444444444444, \"#bd3786\"], [0.5555555555555556, \"#d8576b\"], [0.6666666666666666, \"#ed7953\"], [0.7777777777777778, \"#fb9f3a\"], [0.8888888888888888, \"#fdca26\"], [1.0, \"#f0f921\"]], \"type\": \"contour\"}], \"contourcarpet\": [{\"colorbar\": {\"outlinewidth\": 0, \"ticks\": \"\"}, \"type\": \"contourcarpet\"}], \"heatmap\": [{\"colorbar\": {\"outlinewidth\": 0, \"ticks\": \"\"}, \"colorscale\": [[0.0, \"#0d0887\"], [0.1111111111111111, \"#46039f\"], [0.2222222222222222, \"#7201a8\"], [0.3333333333333333, \"#9c179e\"], [0.4444444444444444, \"#bd3786\"], [0.5555555555555556, \"#d8576b\"], [0.6666666666666666, \"#ed7953\"], [0.7777777777777778, \"#fb9f3a\"], [0.8888888888888888, \"#fdca26\"], [1.0, \"#f0f921\"]], \"type\": \"heatmap\"}], \"heatmapgl\": [{\"colorbar\": {\"outlinewidth\": 0, \"ticks\": \"\"}, \"colorscale\": [[0.0, \"#0d0887\"], [0.1111111111111111, \"#46039f\"], [0.2222222222222222, \"#7201a8\"], [0.3333333333333333, \"#9c179e\"], [0.4444444444444444, \"#bd3786\"], [0.5555555555555556, \"#d8576b\"], [0.6666666666666666, \"#ed7953\"], [0.7777777777777778, \"#fb9f3a\"], [0.8888888888888888, \"#fdca26\"], [1.0, \"#f0f921\"]], \"type\": \"heatmapgl\"}], \"histogram\": [{\"marker\": {\"colorbar\": {\"outlinewidth\": 0, \"ticks\": \"\"}}, \"type\": \"histogram\"}], \"histogram2d\": [{\"colorbar\": {\"outlinewidth\": 0, \"ticks\": \"\"}, \"colorscale\": [[0.0, \"#0d0887\"], [0.1111111111111111, \"#46039f\"], [0.2222222222222222, \"#7201a8\"], [0.3333333333333333, \"#9c179e\"], [0.4444444444444444, \"#bd3786\"], [0.5555555555555556, \"#d8576b\"], [0.6666666666666666, \"#ed7953\"], [0.7777777777777778, \"#fb9f3a\"], [0.8888888888888888, \"#fdca26\"], [1.0, \"#f0f921\"]], \"type\": \"histogram2d\"}], \"histogram2dcontour\": [{\"colorbar\": {\"outlinewidth\": 0, \"ticks\": \"\"}, \"colorscale\": [[0.0, \"#0d0887\"], [0.1111111111111111, \"#46039f\"], [0.2222222222222222, \"#7201a8\"], [0.3333333333333333, \"#9c179e\"], [0.4444444444444444, \"#bd3786\"], [0.5555555555555556, \"#d8576b\"], [0.6666666666666666, \"#ed7953\"], [0.7777777777777778, \"#fb9f3a\"], [0.8888888888888888, \"#fdca26\"], [1.0, \"#f0f921\"]], \"type\": \"histogram2dcontour\"}], \"mesh3d\": [{\"colorbar\": {\"outlinewidth\": 0, \"ticks\": \"\"}, \"type\": \"mesh3d\"}], \"parcoords\": [{\"line\": {\"colorbar\": {\"outlinewidth\": 0, \"ticks\": \"\"}}, \"type\": \"parcoords\"}], \"pie\": [{\"automargin\": true, \"type\": \"pie\"}], \"scatter\": [{\"marker\": {\"colorbar\": {\"outlinewidth\": 0, \"ticks\": \"\"}}, \"type\": \"scatter\"}], \"scatter3d\": [{\"line\": {\"colorbar\": {\"outlinewidth\": 0, \"ticks\": \"\"}}, \"marker\": {\"colorbar\": {\"outlinewidth\": 0, \"ticks\": \"\"}}, \"type\": \"scatter3d\"}], \"scattercarpet\": [{\"marker\": {\"colorbar\": {\"outlinewidth\": 0, \"ticks\": \"\"}}, \"type\": \"scattercarpet\"}], \"scattergeo\": [{\"marker\": {\"colorbar\": {\"outlinewidth\": 0, \"ticks\": \"\"}}, \"type\": \"scattergeo\"}], \"scattergl\": [{\"marker\": {\"colorbar\": {\"outlinewidth\": 0, \"ticks\": \"\"}}, \"type\": \"scattergl\"}], \"scattermapbox\": [{\"marker\": {\"colorbar\": {\"outlinewidth\": 0, \"ticks\": \"\"}}, \"type\": \"scattermapbox\"}], \"scatterpolar\": [{\"marker\": {\"colorbar\": {\"outlinewidth\": 0, \"ticks\": \"\"}}, \"type\": \"scatterpolar\"}], \"scatterpolargl\": [{\"marker\": {\"colorbar\": {\"outlinewidth\": 0, \"ticks\": \"\"}}, \"type\": \"scatterpolargl\"}], \"scatterternary\": [{\"marker\": {\"colorbar\": {\"outlinewidth\": 0, \"ticks\": \"\"}}, \"type\": \"scatterternary\"}], \"surface\": [{\"colorbar\": {\"outlinewidth\": 0, \"ticks\": \"\"}, \"colorscale\": [[0.0, \"#0d0887\"], [0.1111111111111111, \"#46039f\"], [0.2222222222222222, \"#7201a8\"], [0.3333333333333333, \"#9c179e\"], [0.4444444444444444, \"#bd3786\"], [0.5555555555555556, \"#d8576b\"], [0.6666666666666666, \"#ed7953\"], [0.7777777777777778, \"#fb9f3a\"], [0.8888888888888888, \"#fdca26\"], [1.0, \"#f0f921\"]], \"type\": \"surface\"}], \"table\": [{\"cells\": {\"fill\": {\"color\": \"#EBF0F8\"}, \"line\": {\"color\": \"white\"}}, \"header\": {\"fill\": {\"color\": \"#C8D4E3\"}, \"line\": {\"color\": \"white\"}}, \"type\": \"table\"}]}, \"layout\": {\"annotationdefaults\": {\"arrowcolor\": \"#2a3f5f\", \"arrowhead\": 0, \"arrowwidth\": 1}, \"coloraxis\": {\"colorbar\": {\"outlinewidth\": 0, \"ticks\": \"\"}}, \"colorscale\": {\"diverging\": [[0, \"#8e0152\"], [0.1, \"#c51b7d\"], [0.2, \"#de77ae\"], [0.3, \"#f1b6da\"], [0.4, \"#fde0ef\"], [0.5, \"#f7f7f7\"], [0.6, \"#e6f5d0\"], [0.7, \"#b8e186\"], [0.8, \"#7fbc41\"], [0.9, \"#4d9221\"], [1, \"#276419\"]], \"sequential\": [[0.0, \"#0d0887\"], [0.1111111111111111, \"#46039f\"], [0.2222222222222222, \"#7201a8\"], [0.3333333333333333, \"#9c179e\"], [0.4444444444444444, \"#bd3786\"], [0.5555555555555556, \"#d8576b\"], [0.6666666666666666, \"#ed7953\"], [0.7777777777777778, \"#fb9f3a\"], [0.8888888888888888, \"#fdca26\"], [1.0, \"#f0f921\"]], \"sequentialminus\": [[0.0, \"#0d0887\"], [0.1111111111111111, \"#46039f\"], [0.2222222222222222, \"#7201a8\"], [0.3333333333333333, \"#9c179e\"], [0.4444444444444444, \"#bd3786\"], [0.5555555555555556, \"#d8576b\"], [0.6666666666666666, \"#ed7953\"], [0.7777777777777778, \"#fb9f3a\"], [0.8888888888888888, \"#fdca26\"], [1.0, \"#f0f921\"]]}, \"colorway\": [\"#636efa\", \"#EF553B\", \"#00cc96\", \"#ab63fa\", \"#FFA15A\", \"#19d3f3\", \"#FF6692\", \"#B6E880\", \"#FF97FF\", \"#FECB52\"], \"font\": {\"color\": \"#2a3f5f\"}, \"geo\": {\"bgcolor\": \"white\", \"lakecolor\": \"white\", \"landcolor\": \"#E5ECF6\", \"showlakes\": true, \"showland\": true, \"subunitcolor\": \"white\"}, \"hoverlabel\": {\"align\": \"left\"}, \"hovermode\": \"closest\", \"mapbox\": {\"style\": \"light\"}, \"paper_bgcolor\": \"white\", \"plot_bgcolor\": \"#E5ECF6\", \"polar\": {\"angularaxis\": {\"gridcolor\": \"white\", \"linecolor\": \"white\", \"ticks\": \"\"}, \"bgcolor\": \"#E5ECF6\", \"radialaxis\": {\"gridcolor\": \"white\", \"linecolor\": \"white\", \"ticks\": \"\"}}, \"scene\": {\"xaxis\": {\"backgroundcolor\": \"#E5ECF6\", \"gridcolor\": \"white\", \"gridwidth\": 2, \"linecolor\": \"white\", \"showbackground\": true, \"ticks\": \"\", \"zerolinecolor\": \"white\"}, \"yaxis\": {\"backgroundcolor\": \"#E5ECF6\", \"gridcolor\": \"white\", \"gridwidth\": 2, \"linecolor\": \"white\", \"showbackground\": true, \"ticks\": \"\", \"zerolinecolor\": \"white\"}, \"zaxis\": {\"backgroundcolor\": \"#E5ECF6\", \"gridcolor\": \"white\", \"gridwidth\": 2, \"linecolor\": \"white\", \"showbackground\": true, \"ticks\": \"\", \"zerolinecolor\": \"white\"}}, \"shapedefaults\": {\"line\": {\"color\": \"#2a3f5f\"}}, \"ternary\": {\"aaxis\": {\"gridcolor\": \"white\", \"linecolor\": \"white\", \"ticks\": \"\"}, \"baxis\": {\"gridcolor\": \"white\", \"linecolor\": \"white\", \"ticks\": \"\"}, \"bgcolor\": \"#E5ECF6\", \"caxis\": {\"gridcolor\": \"white\", \"linecolor\": \"white\", \"ticks\": \"\"}}, \"title\": {\"x\": 0.05}, \"xaxis\": {\"automargin\": true, \"gridcolor\": \"white\", \"linecolor\": \"white\", \"ticks\": \"\", \"title\": {\"standoff\": 15}, \"zerolinecolor\": \"white\", \"zerolinewidth\": 2}, \"yaxis\": {\"automargin\": true, \"gridcolor\": \"white\", \"linecolor\": \"white\", \"ticks\": \"\", \"title\": {\"standoff\": 15}, \"zerolinecolor\": \"white\", \"zerolinewidth\": 2}}}, \"xaxis\": {\"anchor\": \"y\", \"domain\": [0.0, 1.0], \"title\": {\"text\": \"pc1\"}}, \"yaxis\": {\"anchor\": \"x\", \"domain\": [0.0, 1.0], \"title\": {\"text\": \"pc2\"}}},\n",
       "                        {\"responsive\": true}\n",
       "                    ).then(function(){\n",
       "                            \n",
       "var gd = document.getElementById('ebb5d883-9431-48ac-ba2f-f7263034a0b1');\n",
       "var x = new MutationObserver(function (mutations, observer) {{\n",
       "        var display = window.getComputedStyle(gd).display;\n",
       "        if (!display || display === 'none') {{\n",
       "            console.log([gd, 'removed!']);\n",
       "            Plotly.purge(gd);\n",
       "            observer.disconnect();\n",
       "        }}\n",
       "}});\n",
       "\n",
       "// Listen for the removal of the full notebook cells\n",
       "var notebookContainer = gd.closest('#notebook-container');\n",
       "if (notebookContainer) {{\n",
       "    x.observe(notebookContainer, {childList: true});\n",
       "}}\n",
       "\n",
       "// Listen for the clearing of the current output cell\n",
       "var outputEl = gd.closest('.output');\n",
       "if (outputEl) {{\n",
       "    x.observe(outputEl, {childList: true});\n",
       "}}\n",
       "\n",
       "                        })\n",
       "                };\n",
       "                });\n",
       "            </script>\n",
       "        </div>"
      ]
     },
     "metadata": {},
     "output_type": "display_data"
    }
   ],
   "source": [
    "basefolder = \"/home/dobraczka/Downloads/ScadsPCResults/output/results/BootEA/D_W_15K_V1/721_5fold/1/20200602160826/\"\n",
    "emb = np.load(basefolder + \"rel_embeds.npy\")\n",
    "ids1 = pd.read_csv(basefolder + \"kg1_rel_ids\", names=[\"uri\",\"id\"], index_col=\"id\",sep=\"\\t\")\n",
    "ids2 = pd.read_csv(basefolder + \"kg2_rel_ids\", names=[\"uri\",\"id\"], index_col=\"id\",sep=\"\\t\")\n",
    "pca = PCA(n_components=2)\n",
    "principal_components = pca.fit_transform(emb)\n",
    "principalDf = pd.DataFrame(data = principal_components, columns = ['pc1', 'pc2'])\n",
    "# add names\n",
    "principalDf = principalDf.merge(ids1,left_index=True,right_index=True,how=\"left\").combine_first(principalDf.merge(ids2,left_index=True,right_index=True,how=\"left\"))\n",
    "fig = px.scatter(principalDf, x=\"pc1\", y=\"pc2\", hover_data=[\"name\"])\n",
    "fig.show()"
   ]
  },
  {
   "cell_type": "code",
   "execution_count": 33,
   "metadata": {},
   "outputs": [],
   "source": []
  },
  {
   "cell_type": "code",
   "execution_count": null,
   "metadata": {},
   "outputs": [],
   "source": []
  }
 ],
 "metadata": {
  "kernelspec": {
   "display_name": "Python 3",
   "language": "python",
   "name": "python3"
  },
  "language_info": {
   "codemirror_mode": {
    "name": "ipython",
    "version": 3
   },
   "file_extension": ".py",
   "mimetype": "text/x-python",
   "name": "python",
   "nbconvert_exporter": "python",
   "pygments_lexer": "ipython3",
   "version": "3.7.3"
  }
 },
 "nbformat": 4,
 "nbformat_minor": 4
}
