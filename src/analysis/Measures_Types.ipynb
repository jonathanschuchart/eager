{
 "cells": [
  {
   "cell_type": "code",
   "execution_count": 1,
   "metadata": {},
   "outputs": [],
   "source": [
    "import os\n",
    "import sys\n",
    "module_path = os.path.abspath(os.path.join('..'))\n",
    "if module_path not in sys.path:\n",
    "    sys.path.append(module_path)"
   ]
  },
  {
   "cell_type": "code",
   "execution_count": null,
   "metadata": {},
   "outputs": [],
   "source": [
    "import pandas as pd\n",
    "import numpy as np\n",
    "import scipy.stats  as stats\n",
    "import seaborn as sns\n",
    "import glob\n",
    "import matplotlib.pyplot as plt\n",
    "from quality.analyze_types import create_typed_predictions, get_entity_node_degrees, create_combined_df, create_combined_over_embeddings, _get_files, average_node_degree"
   ]
  },
  {
   "cell_type": "code",
   "execution_count": null,
   "metadata": {},
   "outputs": [],
   "source": [
    "embedding_approaches = [\"BootEA\",\"MultiKE\",\"RDGCN\"]\n",
    "vector_type = \"SimAndEmb\"\n",
    "#dataset_name = \"EN_DE_15K_V1\""
   ]
  },
  {
   "cell_type": "code",
   "execution_count": null,
   "metadata": {},
   "outputs": [],
   "source": [
    "def set_errors(df, pred, val):\n",
    "    if (df[\"pred\"] == pred) & (df[\"val\"] == val):\n",
    "        return 1\n",
    "    else:\n",
    "        return 0"
   ]
  },
  {
   "cell_type": "code",
   "execution_count": null,
   "metadata": {},
   "outputs": [],
   "source": [
    "def calc_measures(data):\n",
    "    df = data.copy()\n",
    "    df[\"fn\"] = df.apply(set_errors, args=(0,1), axis=1)\n",
    "    df[\"fp\"] = df.apply(set_errors, args=(1,0), axis=1)\n",
    "    df[\"tp\"] = df.apply(set_errors, args=(1,1), axis=1)\n",
    "    df[\"tn\"] = df.apply(set_errors, args=(0,0), axis=1)\n",
    "    summed = (df.groupby(\"left_types\").sum() + df.groupby(\"right_types\").sum()) / 2\n",
    "    summed[\"prec\"] = summed[\"tp\"] / (summed[\"tp\"]+summed[\"fp\"])\n",
    "    summed[\"rec\"] = summed[\"tp\"] / (summed[\"tp\"]+summed[\"fn\"])\n",
    "    summed[\"fm\"] = 2*(summed[\"prec\"]*summed[\"rec\"]/(summed[\"prec\"]+summed[\"rec\"]))\n",
    "    return summed[[\"prec\",\"rec\",\"fm\"]]"
   ]
  },
  {
   "cell_type": "code",
   "execution_count": null,
   "metadata": {},
   "outputs": [],
   "source": [
    "def show_table(dataset_name, color_axis=0, cache=True, scadsmb=False):\n",
    "    pickle_path = f\"/tmp/{dataset_name}_{color_axis}.pkl\"\n",
    "    if cache and os.path.exists(pickle_path):\n",
    "        print(\"Load cached\")\n",
    "        final = pd.read_pickle(pickle_path)\n",
    "    else:\n",
    "        type_files = sorted([i for i in glob.iglob(f\"/home/dobraczka/Downloads/git/er-embedding-benchmark/data/OpenEA/typed_links/datasets/{dataset_name}/721_5fold/*/typed_test\")])\n",
    "        type_dataset = \"/home/dobraczka/Downloads/git/er-embedding-benchmark/data/OpenEA/typed_links/superclasses.json\"\n",
    "        if scadsmb:\n",
    "            type_files = f\"/home/dobraczka/Downloads/git/er-embedding-benchmark/data/EA-ScaDS-Datasets/ScadsMB/typed_links/datasets/{dataset_name}\"\n",
    "            type_dataset = \"/home/dobraczka/Downloads/git/er-embedding-benchmark/data/ScadsMB/typed_links/superclasses.json\"\n",
    "        dfs = []\n",
    "        occ = None\n",
    "        measured = []\n",
    "        for e in embedding_approaches:\n",
    "            kg1_ent_id_files, kg2_ent_id_files, pred_files = _get_files(e, dataset_name, \"/home/dobraczka/Downloads/git/er-embedding-benchmark/data/\",vector_type)\n",
    "            df = create_typed_predictions(\n",
    "                    kg1_ent_id_files,\n",
    "                    kg2_ent_id_files,\n",
    "                    pred_files,\n",
    "                    type_files,\n",
    "                    type_dataset\n",
    "            )\n",
    "            if occ is None:\n",
    "                occ = (df[\"left_types\"].value_counts() + df[\"right_types\"].value_counts()).to_frame(\"occurence\")\n",
    "        for d in dfs:\n",
    "            measured.append(calc_measures(d).join(occ))\n",
    "        mult = pd.concat(measured, axis = 1, keys=([\"BootEA\",\"MultiKE\",\"RDGCN\"]))\n",
    "        final = mult.sort_index(axis=1, level=1).swaplevel(axis=1)\n",
    "        final = final.reset_index().rename(columns={\"left_types\":\"Type\"})\n",
    "        final[\"Type\"] = [x.split(\"/\")[-1].split(\"#\")[-1] for x in final[\"Type\"].astype(str)]\n",
    "        final = final.set_index(\"Type\").drop(\"index\",level=0,axis=1).round(3)\n",
    "        final = final.sort_values(by=(\"occurence\",\"BootEA\"))\n",
    "        pd.to_pickle(final, pickle_path)\n",
    "    return final.fillna(-0.0001).style.background_gradient(cmap='Greens',axis=color_axis,subset=[\"fm\"]).background_gradient(cmap='Blues',axis=color_axis,subset=[\"prec\"]).background_gradient(cmap='Purples',axis=color_axis,subset=[\"rec\"])"
   ]
  },
  {
   "cell_type": "markdown",
   "metadata": {},
   "source": [
    "# DBpedia-Wikidata 15K V1"
   ]
  },
  {
   "cell_type": "code",
   "execution_count": null,
   "metadata": {},
   "outputs": [],
   "source": [
    "show_table(\"D_W_15K_V1\",)"
   ]
  },
  {
   "cell_type": "markdown",
   "metadata": {},
   "source": [
    "# DBpedia-Wikidata 15K V2"
   ]
  },
  {
   "cell_type": "code",
   "execution_count": null,
   "metadata": {},
   "outputs": [],
   "source": [
    "show_table(\"D_W_15K_V2\")"
   ]
  },
  {
   "cell_type": "markdown",
   "metadata": {},
   "source": [
    "# DBpedia-Yago 15K V1"
   ]
  },
  {
   "cell_type": "code",
   "execution_count": null,
   "metadata": {},
   "outputs": [],
   "source": [
    "show_table(\"D_Y_15K_V1\")"
   ]
  },
  {
   "cell_type": "markdown",
   "metadata": {},
   "source": [
    "# DBpedia-Yago 15K V2"
   ]
  },
  {
   "cell_type": "code",
   "execution_count": null,
   "metadata": {},
   "outputs": [],
   "source": [
    "show_table(\"D_Y_15K_V2\")"
   ]
  },
  {
   "cell_type": "markdown",
   "metadata": {},
   "source": [
    "# DBpediaEN-DBpediaDE 15K V1"
   ]
  },
  {
   "cell_type": "code",
   "execution_count": null,
   "metadata": {},
   "outputs": [],
   "source": [
    "show_table(\"EN_DE_15K_V1\") "
   ]
  },
  {
   "cell_type": "markdown",
   "metadata": {},
   "source": [
    "# DBpediaEN-DBpediaDE 15K V2"
   ]
  },
  {
   "cell_type": "code",
   "execution_count": null,
   "metadata": {},
   "outputs": [],
   "source": [
    "show_table(\"EN_DE_15K_V2\") "
   ]
  },
  {
   "cell_type": "markdown",
   "metadata": {},
   "source": [
    "# DBpediaEN-DBpediaFR 15K V1"
   ]
  },
  {
   "cell_type": "code",
   "execution_count": null,
   "metadata": {},
   "outputs": [],
   "source": [
    "show_table(\"EN_FR_15K_V1\") "
   ]
  },
  {
   "cell_type": "markdown",
   "metadata": {},
   "source": [
    "# DBpediaEN-DBpediaFR 15K V2"
   ]
  },
  {
   "cell_type": "code",
   "execution_count": null,
   "metadata": {},
   "outputs": [],
   "source": [
    "show_table(\"EN_FR_15K_V2\")"
   ]
  },
  {
   "cell_type": "markdown",
   "metadata": {},
   "source": [
    "# DBpedia-Wikidata 100K V1"
   ]
  },
  {
   "cell_type": "code",
   "execution_count": null,
   "metadata": {},
   "outputs": [],
   "source": [
    "show_table(\"D_W_100K_V1\")"
   ]
  },
  {
   "cell_type": "markdown",
   "metadata": {},
   "source": [
    "# DBpedia-Wikidata 100K V2"
   ]
  },
  {
   "cell_type": "code",
   "execution_count": null,
   "metadata": {},
   "outputs": [],
   "source": [
    "show_table(\"D_W_100K_V2\")"
   ]
  },
  {
   "cell_type": "markdown",
   "metadata": {},
   "source": [
    "# DBpedia-Yago 100K V1"
   ]
  },
  {
   "cell_type": "code",
   "execution_count": null,
   "metadata": {},
   "outputs": [],
   "source": [
    "show_table(\"D_Y_100K_V1\")"
   ]
  },
  {
   "cell_type": "markdown",
   "metadata": {},
   "source": [
    "# DBpedia-Yago 100K V2"
   ]
  },
  {
   "cell_type": "code",
   "execution_count": null,
   "metadata": {},
   "outputs": [],
   "source": [
    "show_table(\"D_Y_100K_V2\")"
   ]
  },
  {
   "cell_type": "markdown",
   "metadata": {},
   "source": [
    "# DBpediaEN-DBpediaDE 100K V1"
   ]
  },
  {
   "cell_type": "code",
   "execution_count": null,
   "metadata": {},
   "outputs": [],
   "source": [
    "show_table(\"EN_DE_100K_V1\") "
   ]
  },
  {
   "cell_type": "markdown",
   "metadata": {},
   "source": [
    "# DBpediaEN-DBpediaDE 100K V2"
   ]
  },
  {
   "cell_type": "code",
   "execution_count": null,
   "metadata": {},
   "outputs": [],
   "source": [
    "show_table(\"EN_DE_100K_V2\") "
   ]
  },
  {
   "cell_type": "markdown",
   "metadata": {},
   "source": [
    "# DBpediaEN-DBpediaFR 100K V1"
   ]
  },
  {
   "cell_type": "code",
   "execution_count": null,
   "metadata": {},
   "outputs": [],
   "source": [
    "show_table(\"EN_FR_100K_V1\") "
   ]
  },
  {
   "cell_type": "markdown",
   "metadata": {},
   "source": [
    "# DBpediaEN-DBpediaFR 100K V2"
   ]
  },
  {
   "cell_type": "code",
   "execution_count": 4,
   "metadata": {},
   "outputs": [
    {
     "ename": "NameError",
     "evalue": "name 'show_table' is not defined",
     "output_type": "error",
     "traceback": [
      "\u001b[0;31m---------------------------------------------------------------------------\u001b[0m",
      "\u001b[0;31mNameError\u001b[0m                                 Traceback (most recent call last)",
      "\u001b[0;32m<ipython-input-4-5ee17f4cbeae>\u001b[0m in \u001b[0;36m<module>\u001b[0;34m\u001b[0m\n\u001b[0;32m----> 1\u001b[0;31m \u001b[0mshow_table\u001b[0m\u001b[0;34m(\u001b[0m\u001b[0;34m\"EN_FR_100K_V2\"\u001b[0m\u001b[0;34m)\u001b[0m\u001b[0;34m\u001b[0m\u001b[0;34m\u001b[0m\u001b[0m\n\u001b[0m",
      "\u001b[0;31mNameError\u001b[0m: name 'show_table' is not defined"
     ]
    }
   ],
   "source": [
    "show_table(\"EN_FR_100K_V2\")"
   ]
  },
  {
   "cell_type": "markdown",
   "metadata": {},
   "source": [
    "# IMDB-TMDB"
   ]
  },
  {
   "cell_type": "code",
   "execution_count": null,
   "metadata": {},
   "outputs": [],
   "source": [
    "show_table(\"imdb-tmdb\", scadsmb=True)"
   ]
  },
  {
   "cell_type": "markdown",
   "metadata": {},
   "source": [
    "# IMDB-TVDB"
   ]
  },
  {
   "cell_type": "code",
   "execution_count": null,
   "metadata": {},
   "outputs": [],
   "source": [
    "show_table(\"imdb-tvdb\", scadsmb=True)"
   ]
  },
  {
   "cell_type": "markdown",
   "metadata": {},
   "source": [
    "# TMDB-TVDB"
   ]
  },
  {
   "cell_type": "code",
   "execution_count": null,
   "metadata": {},
   "outputs": [],
   "source": [
    "show_table(\"tmdb-tvdb\", scadsmb=True)"
   ]
  }
 ],
 "metadata": {
  "kernelspec": {
   "display_name": "Python 3",
   "language": "python",
   "name": "python3"
  },
  "language_info": {
   "codemirror_mode": {
    "name": "ipython",
    "version": 3
   },
   "file_extension": ".py",
   "mimetype": "text/x-python",
   "name": "python",
   "nbconvert_exporter": "python",
   "pygments_lexer": "ipython3",
   "version": "3.7.6"
  }
 },
 "nbformat": 4,
 "nbformat_minor": 4
}
